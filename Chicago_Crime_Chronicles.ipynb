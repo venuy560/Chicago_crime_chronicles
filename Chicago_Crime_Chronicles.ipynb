{
  "cells": [
    {
      "cell_type": "markdown",
      "metadata": {
        "id": "view-in-github",
        "colab_type": "text"
      },
      "source": [
        "<a href=\"https://colab.research.google.com/github/venuy560/Chicago_crime_chronicles/blob/main/Chicago_Crime_Chronicles.ipynb\" target=\"_parent\"><img src=\"https://colab.research.google.com/assets/colab-badge.svg\" alt=\"Open In Colab\"/></a>"
      ]
    },
    {
      "cell_type": "markdown",
      "metadata": {
        "id": "ZZPtipYTrbgk"
      },
      "source": [
        "# Apache PySpark"
      ]
    },
    {
      "cell_type": "markdown",
      "metadata": {
        "id": "qJoeN3e8_Gzk"
      },
      "source": [
        "## Introduction to Google Colab"
      ]
    },
    {
      "cell_type": "markdown",
      "metadata": {
        "id": "_N5-lspH_N8B"
      },
      "source": [
        "### Jupyter notebook basics"
      ]
    },
    {
      "cell_type": "markdown",
      "metadata": {
        "id": "6Ul54hAYyHyd"
      },
      "source": [
        "#### Code cells"
      ]
    },
    {
      "cell_type": "code",
      "execution_count": null,
      "metadata": {
        "id": "j38beRUTCI5c"
      },
      "outputs": [],
      "source": []
    },
    {
      "cell_type": "markdown",
      "metadata": {
        "id": "VOqLNkRKyUIS"
      },
      "source": [
        "#### Text cells"
      ]
    },
    {
      "cell_type": "code",
      "execution_count": null,
      "metadata": {
        "id": "neY8vxXzyXDq"
      },
      "outputs": [],
      "source": []
    },
    {
      "cell_type": "markdown",
      "metadata": {
        "id": "X6zdrH15_CCW"
      },
      "source": [
        "### Access to the shell"
      ]
    },
    {
      "cell_type": "code",
      "execution_count": null,
      "metadata": {
        "id": "IX947X96Gdpj"
      },
      "outputs": [],
      "source": []
    },
    {
      "cell_type": "markdown",
      "metadata": {
        "id": "Dd6t0uFzuR4X"
      },
      "source": [
        "## Install Spark"
      ]
    },
    {
      "cell_type": "markdown",
      "metadata": {
        "id": "qu34sKRJvhq_"
      },
      "source": [
        "- Google colab recently made some changes which breaks the Spark installation.\n",
        "- Please use the code below where we install from the pyspark package instead"
      ]
    },
    {
      "cell_type": "code",
      "execution_count": 2,
      "metadata": {
        "colab": {
          "base_uri": "https://localhost:8080/"
        },
        "id": "We2yp-o7Hgu9",
        "outputId": "a8ebd48b-8703-45d1-f467-ff507b2fbf31"
      },
      "outputs": [
        {
          "output_type": "stream",
          "name": "stdout",
          "text": [
            "Requirement already satisfied: pyspark==3.4.0 in /usr/local/lib/python3.11/dist-packages (3.4.0)\n",
            "Requirement already satisfied: py4j==0.10.9.7 in /usr/local/lib/python3.11/dist-packages (from pyspark==3.4.0) (0.10.9.7)\n"
          ]
        }
      ],
      "source": [
        "!pip install pyspark==3.4.0"
      ]
    },
    {
      "cell_type": "code",
      "execution_count": 3,
      "metadata": {
        "colab": {
          "base_uri": "https://localhost:8080/",
          "height": 221
        },
        "id": "QdrFO3yrwptm",
        "outputId": "edcafd39-2391-44fb-a356-f1ad205c7b3a"
      },
      "outputs": [
        {
          "output_type": "execute_result",
          "data": {
            "text/plain": [
              "<pyspark.sql.session.SparkSession at 0x7fd9744343d0>"
            ],
            "text/html": [
              "\n",
              "            <div>\n",
              "                <p><b>SparkSession - in-memory</b></p>\n",
              "                \n",
              "        <div>\n",
              "            <p><b>SparkContext</b></p>\n",
              "\n",
              "            <p><a href=\"http://a2a734c590c6:4040\">Spark UI</a></p>\n",
              "\n",
              "            <dl>\n",
              "              <dt>Version</dt>\n",
              "                <dd><code>v3.4.0</code></dd>\n",
              "              <dt>Master</dt>\n",
              "                <dd><code>local[*]</code></dd>\n",
              "              <dt>AppName</dt>\n",
              "                <dd><code>pyspark-shell</code></dd>\n",
              "            </dl>\n",
              "        </div>\n",
              "        \n",
              "            </div>\n",
              "        "
            ]
          },
          "metadata": {},
          "execution_count": 3
        }
      ],
      "source": [
        "from pyspark.sql import SparkSession\n",
        "spark = SparkSession.builder.master(\"local[*]\").getOrCreate()\n",
        "spark"
      ]
    },
    {
      "cell_type": "markdown",
      "metadata": {
        "id": "XO081lQtutJ-"
      },
      "source": []
    },
    {
      "cell_type": "markdown",
      "metadata": {
        "id": "8qf-TmnsBgXd"
      },
      "source": [
        "## (02-02) Download Chicago's Reported Crime Data"
      ]
    },
    {
      "cell_type": "markdown",
      "metadata": {
        "id": "0ysUlfFrN5OD"
      },
      "source": [
        "### Downloading and preprocessing Chicago's Reported Crime Data"
      ]
    },
    {
      "cell_type": "code",
      "execution_count": 4,
      "metadata": {
        "colab": {
          "base_uri": "https://localhost:8080/"
        },
        "id": "FDtw5Hy3N-pV",
        "outputId": "8f7d78b0-9c54-4f1a-a3b3-f74c448d869d"
      },
      "outputs": [
        {
          "output_type": "stream",
          "name": "stdout",
          "text": [
            "--2025-06-01 04:10:24--  https://data.cityofchicago.org/api/views/ijzp-q8t2/rows.csv?accessType=DOWNLOAD\n",
            "Resolving data.cityofchicago.org (data.cityofchicago.org)... 52.206.68.26, 52.206.140.199, 52.206.140.205\n",
            "Connecting to data.cityofchicago.org (data.cityofchicago.org)|52.206.68.26|:443... connected.\n",
            "HTTP request sent, awaiting response... 200 OK\n",
            "Length: unspecified [text/csv]\n",
            "Saving to: ‘rows.csv?accessType=DOWNLOAD’\n",
            "\n",
            "rows.csv?accessType     [        <=>         ]   1.83G  3.05MB/s    in 11m 3s  \n",
            "\n",
            "2025-06-01 04:21:27 (2.83 MB/s) - ‘rows.csv?accessType=DOWNLOAD’ saved [1967037685]\n",
            "\n",
            "total 1920944\n",
            "-rw-r--r-- 1 root root 1967037685 May 31 10:59 'rows.csv?accessType=DOWNLOAD'\n",
            "drwxr-xr-x 1 root root       4096 May 29 14:01  sample_data\n"
          ]
        }
      ],
      "source": [
        "!wget https://data.cityofchicago.org/api/views/ijzp-q8t2/rows.csv?accessType=DOWNLOAD\n",
        "!ls -l"
      ]
    },
    {
      "cell_type": "code",
      "execution_count": 5,
      "metadata": {
        "colab": {
          "base_uri": "https://localhost:8080/"
        },
        "id": "v4P5mMONYyVd",
        "outputId": "e15bc1ad-d88f-4a28-bc2e-1480a358d272"
      },
      "outputs": [
        {
          "output_type": "stream",
          "name": "stdout",
          "text": [
            "total 1920944\n",
            "-rw-r--r-- 1 root root 1967037685 May 31 10:59 reported-crimes.csv\n",
            "drwxr-xr-x 1 root root       4096 May 29 14:01 sample_data\n"
          ]
        }
      ],
      "source": [
        "!mv rows.csv\\?accessType\\=DOWNLOAD reported-crimes.csv\n",
        "!ls -l"
      ]
    },
    {
      "cell_type": "code",
      "execution_count": 6,
      "metadata": {
        "colab": {
          "base_uri": "https://localhost:8080/"
        },
        "id": "9-1cK0nPNS95",
        "outputId": "3df1ee52-2945-46c6-9ffa-4c7118a39f21"
      },
      "outputs": [
        {
          "output_type": "stream",
          "name": "stdout",
          "text": [
            "+--------+-----------+-------------------+--------------------+----+-------------------+--------------------+--------------------+------+--------+----+--------+----+--------------+--------+------------+------------+----+--------------------+------------+-------------+--------------------+\n",
            "|      ID|Case Number|               Date|               Block|IUCR|       Primary Type|         Description|Location Description|Arrest|Domestic|Beat|District|Ward|Community Area|FBI Code|X Coordinate|Y Coordinate|Year|          Updated On|    Latitude|    Longitude|            Location|\n",
            "+--------+-----------+-------------------+--------------------+----+-------------------+--------------------+--------------------+------+--------+----+--------+----+--------------+--------+------------+------------+----+--------------------+------------+-------------+--------------------+\n",
            "|11227634|   JB147599|2017-08-26 10:00:00| 001XX W RANDOLPH ST|0281|CRIM SEXUAL ASSAULT|      NON-AGGRAVATED|         HOTEL/MOTEL| false|   false|0122|     001|  42|            32|      02|        null|        null|2017|02/11/2018 03:57:...|        null|         null|                null|\n",
            "| 6255892|   HP342049|2008-05-17 18:00:00|101XX S LAFAYETTE...|031A|            ROBBERY|     ARMED - HANDGUN|           RESIDENCE| false|   false|0511|     005|   9|            49|      03|     1177712|     1837726|2008|01/19/2024 03:40:...|41.710039855| -87.62479561|(41.710039855, -8...|\n",
            "| 6272641|   HP358387|2008-05-27 01:00:00|   105XX S PERRY AVE|0320|            ROBBERY|STRONG ARM - NO W...|              STREET| false|    true|0512|     005|   9|            49|      03|     1177463|     1835161|2008|01/19/2024 03:40:...|41.703006756|-87.625784664|(41.703006756, -8...|\n",
            "| 6438609|   HP496499|2008-08-05 22:37:00|   126XX S UNION AVE|031A|            ROBBERY|     ARMED - HANDGUN|SCHOOL - PUBLIC G...| false|   false|0523|     005|   9|            53|      03|     1173953|     1821073|2008|01/19/2024 03:40:...|41.664425476|-87.639053139|(41.664425476, -8...|\n",
            "| 6680276|   HP754070|2008-12-27 20:00:00|  058XX N MANTON AVE|0610|           BURGLARY|      FORCIBLE ENTRY|  RESIDENCE - GARAGE| false|   false|1622|     016|  39|            11|      05|     1137225|     1938474|2008|01/19/2024 03:40:...|  41.9873259|-87.770650405|(41.9873259, -87....|\n",
            "+--------+-----------+-------------------+--------------------+----+-------------------+--------------------+--------------------+------+--------+----+--------+----+--------------+--------+------------+------------+----+--------------------+------------+-------------+--------------------+\n",
            "only showing top 5 rows\n",
            "\n"
          ]
        }
      ],
      "source": [
        "from pyspark.sql.functions import to_timestamp,col,lit\n",
        "rc = spark.read.csv('reported-crimes.csv',header=True).withColumn('Date',to_timestamp(col('Date'),'MM/dd/yyyy hh:mm:ss a')).filter(col('Date') <= lit('2018-11-11'))\n",
        "rc.show(5)"
      ]
    },
    {
      "cell_type": "markdown",
      "metadata": {
        "id": "3UJoYm5zwOWp"
      },
      "source": [
        "## (03-03) Schemas"
      ]
    },
    {
      "cell_type": "code",
      "execution_count": 9,
      "metadata": {
        "colab": {
          "base_uri": "https://localhost:8080/"
        },
        "id": "PeeOFy5cgDRq",
        "outputId": "88779db8-a4c2-413f-84d4-e0269e085090"
      },
      "outputs": [
        {
          "output_type": "stream",
          "name": "stdout",
          "text": [
            "root\n",
            " |-- ID: string (nullable = true)\n",
            " |-- Case Number: string (nullable = true)\n",
            " |-- Date: timestamp (nullable = true)\n",
            " |-- Block: string (nullable = true)\n",
            " |-- IUCR: string (nullable = true)\n",
            " |-- Primary Type: string (nullable = true)\n",
            " |-- Description: string (nullable = true)\n",
            " |-- Location Description: string (nullable = true)\n",
            " |-- Arrest: string (nullable = true)\n",
            " |-- Domestic: string (nullable = true)\n",
            " |-- Beat: string (nullable = true)\n",
            " |-- District: string (nullable = true)\n",
            " |-- Ward: string (nullable = true)\n",
            " |-- Community Area: string (nullable = true)\n",
            " |-- FBI Code: string (nullable = true)\n",
            " |-- X Coordinate: string (nullable = true)\n",
            " |-- Y Coordinate: string (nullable = true)\n",
            " |-- Year: string (nullable = true)\n",
            " |-- Updated On: string (nullable = true)\n",
            " |-- Latitude: string (nullable = true)\n",
            " |-- Longitude: string (nullable = true)\n",
            " |-- Location: string (nullable = true)\n",
            "\n"
          ]
        }
      ],
      "source": [
        "rc.printSchema()"
      ]
    },
    {
      "cell_type": "code",
      "execution_count": 10,
      "metadata": {
        "id": "qLS_NEpEgDBJ"
      },
      "outputs": [],
      "source": [
        "from pyspark.sql.types import StructType, StructField, StringType, TimestampType, BooleanType, DoubleType, IntegerType"
      ]
    },
    {
      "cell_type": "code",
      "execution_count": 11,
      "metadata": {
        "colab": {
          "base_uri": "https://localhost:8080/"
        },
        "id": "ARGu3yYlJnMW",
        "outputId": "6b7b3e88-e319-4f8f-ef4b-c0963f6f8d0c"
      },
      "outputs": [
        {
          "output_type": "execute_result",
          "data": {
            "text/plain": [
              "['ID',\n",
              " 'Case Number',\n",
              " 'Date',\n",
              " 'Block',\n",
              " 'IUCR',\n",
              " 'Primary Type',\n",
              " 'Description',\n",
              " 'Location Description',\n",
              " 'Arrest',\n",
              " 'Domestic',\n",
              " 'Beat',\n",
              " 'District',\n",
              " 'Ward',\n",
              " 'Community Area',\n",
              " 'FBI Code',\n",
              " 'X Coordinate',\n",
              " 'Y Coordinate',\n",
              " 'Year',\n",
              " 'Updated On',\n",
              " 'Latitude',\n",
              " 'Longitude',\n",
              " 'Location']"
            ]
          },
          "metadata": {},
          "execution_count": 11
        }
      ],
      "source": [
        "rc.columns"
      ]
    },
    {
      "cell_type": "code",
      "execution_count": 12,
      "metadata": {
        "id": "5Ew1gSd8KGNZ"
      },
      "outputs": [],
      "source": [
        "labels = [('ID',StringType()),\n",
        "          ('Case Number',StringType()),\n",
        "          ('Date',TimestampType()),\n",
        "          ('Block',StringType()),\n",
        "          ('IUCR',StringType()),\n",
        "          ('Primary Type',StringType()),\n",
        "          ('Description',StringType()),\n",
        "          ('Location Description',StringType()),\n",
        "          ('Arrest',StringType()),\n",
        "          ('Domestic',BooleanType()),\n",
        "          ('Beat',StringType()),\n",
        "          ('District',BooleanType()),\n",
        "          ('Ward',StringType()),\n",
        "          ('Community Area',StringType()),\n",
        "          ('FBI Code',StringType()),\n",
        "          ('X Coordinate',StringType()),\n",
        "          ('Y Coordinate',StringType()),\n",
        "          ('Year',IntegerType()),\n",
        "          ('Updated On',StringType()),\n",
        "          ('Latitude',DoubleType()),\n",
        "          ('Longitude',DoubleType()),\n",
        "          ('Location',StringType())\n",
        "          ]"
      ]
    },
    {
      "cell_type": "code",
      "execution_count": 13,
      "metadata": {
        "colab": {
          "base_uri": "https://localhost:8080/"
        },
        "id": "E7NuMVpygC2h",
        "outputId": "b58bb0c9-8e44-4a11-d97d-b1c5503a7ab7"
      },
      "outputs": [
        {
          "output_type": "execute_result",
          "data": {
            "text/plain": [
              "StructType([StructField('ID', StringType(), True), StructField('Case Number', StringType(), True), StructField('Date', TimestampType(), True), StructField('Block', StringType(), True), StructField('IUCR', StringType(), True), StructField('Primary Type', StringType(), True), StructField('Description', StringType(), True), StructField('Location Description', StringType(), True), StructField('Arrest', StringType(), True), StructField('Domestic', BooleanType(), True), StructField('Beat', StringType(), True), StructField('District', BooleanType(), True), StructField('Ward', StringType(), True), StructField('Community Area', StringType(), True), StructField('FBI Code', StringType(), True), StructField('X Coordinate', StringType(), True), StructField('Y Coordinate', StringType(), True), StructField('Year', IntegerType(), True), StructField('Updated On', StringType(), True), StructField('Latitude', DoubleType(), True), StructField('Longitude', DoubleType(), True), StructField('Location', StringType(), True)])"
            ]
          },
          "metadata": {},
          "execution_count": 13
        }
      ],
      "source": [
        "schema = StructType([StructField(x[0],x[1],True) for x in labels])\n",
        "schema"
      ]
    },
    {
      "cell_type": "code",
      "execution_count": 14,
      "metadata": {
        "colab": {
          "base_uri": "https://localhost:8080/"
        },
        "id": "ugRDxNwNgHNa",
        "outputId": "0bb4c405-32c0-4667-e9ac-837b64e42d1f"
      },
      "outputs": [
        {
          "output_type": "stream",
          "name": "stdout",
          "text": [
            "root\n",
            " |-- ID: string (nullable = true)\n",
            " |-- Case Number: string (nullable = true)\n",
            " |-- Date: timestamp (nullable = true)\n",
            " |-- Block: string (nullable = true)\n",
            " |-- IUCR: string (nullable = true)\n",
            " |-- Primary Type: string (nullable = true)\n",
            " |-- Description: string (nullable = true)\n",
            " |-- Location Description: string (nullable = true)\n",
            " |-- Arrest: string (nullable = true)\n",
            " |-- Domestic: boolean (nullable = true)\n",
            " |-- Beat: string (nullable = true)\n",
            " |-- District: boolean (nullable = true)\n",
            " |-- Ward: string (nullable = true)\n",
            " |-- Community Area: string (nullable = true)\n",
            " |-- FBI Code: string (nullable = true)\n",
            " |-- X Coordinate: string (nullable = true)\n",
            " |-- Y Coordinate: string (nullable = true)\n",
            " |-- Year: integer (nullable = true)\n",
            " |-- Updated On: string (nullable = true)\n",
            " |-- Latitude: double (nullable = true)\n",
            " |-- Longitude: double (nullable = true)\n",
            " |-- Location: string (nullable = true)\n",
            "\n"
          ]
        }
      ],
      "source": [
        "rc = spark.read.csv('reported-crimes.csv', schema=schema)\n",
        "rc.printSchema()"
      ]
    },
    {
      "cell_type": "code",
      "execution_count": 15,
      "metadata": {
        "colab": {
          "base_uri": "https://localhost:8080/"
        },
        "id": "T6w6-fN9gG_7",
        "outputId": "3cec66de-c296-401f-b918-a289cbf4e5bf"
      },
      "outputs": [
        {
          "output_type": "stream",
          "name": "stdout",
          "text": [
            "+--------+-----------+----+--------------------+----+--------------------+--------------------+--------------------+------+--------+----+--------+----+--------------+--------+------------+------------+----+--------------------+------------+-------------+--------------------+\n",
            "|      ID|Case Number|Date|               Block|IUCR|        Primary Type|         Description|Location Description|Arrest|Domestic|Beat|District|Ward|Community Area|FBI Code|X Coordinate|Y Coordinate|Year|          Updated On|    Latitude|    Longitude|            Location|\n",
            "+--------+-----------+----+--------------------+----+--------------------+--------------------+--------------------+------+--------+----+--------+----+--------------+--------+------------+------------+----+--------------------+------------+-------------+--------------------+\n",
            "|      ID|Case Number|null|               Block|IUCR|        Primary Type|         Description|Location Description|Arrest|    null|Beat|    null|Ward|Community Area|FBI Code|X Coordinate|Y Coordinate|null|          Updated On|        null|         null|            Location|\n",
            "|13311263|   JG503434|null|     023XX S TROY ST|1582|OFFENSE INVOLVING...|   CHILD PORNOGRAPHY|           RESIDENCE|  true|   false|1033|    null|  25|            30|      17|        null|        null|2022|04/18/2024 03:40:...|        null|         null|                null|\n",
            "|13053066|   JG103252|null|039XX W WASHINGTO...|2017|           NARCOTICS|MANUFACTURE / DEL...|            SIDEWALK|  true|   false|1122|    null|  28|            26|      18|        null|        null|2023|01/20/2024 03:41:...|        null|         null|                null|\n",
            "|11227634|   JB147599|null| 001XX W RANDOLPH ST|0281| CRIM SEXUAL ASSAULT|      NON-AGGRAVATED|         HOTEL/MOTEL| false|   false|0122|    null|  42|            32|      02|        null|        null|2017|02/11/2018 03:57:...|        null|         null|                null|\n",
            "|13203321|   JG415333|null|    002XX N Wells st|1320|     CRIMINAL DAMAGE|          TO VEHICLE|PARKING LOT / GAR...| false|   false|0122|    null|  42|            32|      14|     1174694|     1901831|2023|11/04/2023 03:40:...|41.886018055|-87.633937881|(41.886018055, -8...|\n",
            "+--------+-----------+----+--------------------+----+--------------------+--------------------+--------------------+------+--------+----+--------+----+--------------+--------+------------+------------+----+--------------------+------------+-------------+--------------------+\n",
            "only showing top 5 rows\n",
            "\n"
          ]
        }
      ],
      "source": [
        "rc.show(5)"
      ]
    },
    {
      "cell_type": "markdown",
      "metadata": {
        "id": "mI_zYOVpf2yK"
      },
      "source": [
        "## (03-04) Working with columns"
      ]
    },
    {
      "cell_type": "markdown",
      "metadata": {
        "id": "WvOfJmzhf0kG"
      },
      "source": [
        "**Display only the first 5 rows of the column name IUCR**"
      ]
    },
    {
      "cell_type": "code",
      "execution_count": 16,
      "metadata": {
        "colab": {
          "base_uri": "https://localhost:8080/"
        },
        "id": "LZNgF-PFyJl0",
        "outputId": "d635f1fd-ed36-4c24-9027-6b8b6b587a23"
      },
      "outputs": [
        {
          "output_type": "stream",
          "name": "stdout",
          "text": [
            "+----+\n",
            "|IUCR|\n",
            "+----+\n",
            "|IUCR|\n",
            "|1582|\n",
            "|2017|\n",
            "|0281|\n",
            "|1320|\n",
            "+----+\n",
            "only showing top 5 rows\n",
            "\n"
          ]
        }
      ],
      "source": [
        "rc.select('IUCR').show(5)"
      ]
    },
    {
      "cell_type": "code",
      "execution_count": 17,
      "metadata": {
        "colab": {
          "base_uri": "https://localhost:8080/"
        },
        "id": "_G1rHnJbyJl0",
        "outputId": "24254768-81a3-4809-fb4a-49ba0f5dc9b4"
      },
      "outputs": [
        {
          "output_type": "stream",
          "name": "stdout",
          "text": [
            "+----+\n",
            "|IUCR|\n",
            "+----+\n",
            "|IUCR|\n",
            "|1582|\n",
            "|2017|\n",
            "|0281|\n",
            "|1320|\n",
            "+----+\n",
            "only showing top 5 rows\n",
            "\n"
          ]
        }
      ],
      "source": [
        "rc.select(rc.IUCR).show(5)"
      ]
    },
    {
      "cell_type": "code",
      "execution_count": 18,
      "metadata": {
        "colab": {
          "base_uri": "https://localhost:8080/"
        },
        "id": "uP_fcMxGyJl0",
        "outputId": "b2cbe2c7-73bb-43ce-8582-1a7d500858df"
      },
      "outputs": [
        {
          "output_type": "stream",
          "name": "stdout",
          "text": [
            "+----+\n",
            "|IUCR|\n",
            "+----+\n",
            "|IUCR|\n",
            "|1582|\n",
            "|2017|\n",
            "|0281|\n",
            "|1320|\n",
            "+----+\n",
            "only showing top 5 rows\n",
            "\n"
          ]
        }
      ],
      "source": [
        "rc.select(col('IUCR')).show(5)"
      ]
    },
    {
      "cell_type": "markdown",
      "metadata": {
        "id": "A4u5vp73gEtB"
      },
      "source": [
        "  **Display only the first 4 rows of the column names Case Number, Date and Arrest**"
      ]
    },
    {
      "cell_type": "code",
      "execution_count": 19,
      "metadata": {
        "colab": {
          "base_uri": "https://localhost:8080/"
        },
        "id": "vWhJLf41yJl1",
        "outputId": "c4e36f4d-4181-4d8c-abb6-3786de109acf"
      },
      "outputs": [
        {
          "output_type": "stream",
          "name": "stdout",
          "text": [
            "+-----------+----+------+\n",
            "|Case Number|Date|Arrest|\n",
            "+-----------+----+------+\n",
            "|Case Number|null|Arrest|\n",
            "|   JG503434|null|  true|\n",
            "|   JG103252|null|  true|\n",
            "|   JB147599|null| false|\n",
            "+-----------+----+------+\n",
            "only showing top 4 rows\n",
            "\n"
          ]
        }
      ],
      "source": [
        "rc.select('Case Number','Date','Arrest').show(4)"
      ]
    },
    {
      "cell_type": "markdown",
      "metadata": {
        "id": "GKnmLXJWr35c"
      },
      "source": [
        "**Add a column with name One, with entries all 1s**"
      ]
    },
    {
      "cell_type": "code",
      "execution_count": 20,
      "metadata": {
        "id": "_OhKvPoItNtK"
      },
      "outputs": [],
      "source": [
        "from pyspark.sql.functions import lit"
      ]
    },
    {
      "cell_type": "code",
      "execution_count": 21,
      "metadata": {
        "colab": {
          "base_uri": "https://localhost:8080/"
        },
        "id": "LsweBKZNuHzA",
        "outputId": "deab24fa-7052-43c6-ebf9-2b52d0e5c34d"
      },
      "outputs": [
        {
          "output_type": "stream",
          "name": "stdout",
          "text": [
            "+--------+-----------+----+--------------------+----+--------------------+--------------------+--------------------+------+--------+----+--------+----+--------------+--------+------------+------------+----+--------------------+------------+-------------+--------------------+---+\n",
            "|      ID|Case Number|Date|               Block|IUCR|        Primary Type|         Description|Location Description|Arrest|Domestic|Beat|District|Ward|Community Area|FBI Code|X Coordinate|Y Coordinate|Year|          Updated On|    Latitude|    Longitude|            Location|One|\n",
            "+--------+-----------+----+--------------------+----+--------------------+--------------------+--------------------+------+--------+----+--------+----+--------------+--------+------------+------------+----+--------------------+------------+-------------+--------------------+---+\n",
            "|      ID|Case Number|null|               Block|IUCR|        Primary Type|         Description|Location Description|Arrest|    null|Beat|    null|Ward|Community Area|FBI Code|X Coordinate|Y Coordinate|null|          Updated On|        null|         null|            Location|  1|\n",
            "|13311263|   JG503434|null|     023XX S TROY ST|1582|OFFENSE INVOLVING...|   CHILD PORNOGRAPHY|           RESIDENCE|  true|   false|1033|    null|  25|            30|      17|        null|        null|2022|04/18/2024 03:40:...|        null|         null|                null|  1|\n",
            "|13053066|   JG103252|null|039XX W WASHINGTO...|2017|           NARCOTICS|MANUFACTURE / DEL...|            SIDEWALK|  true|   false|1122|    null|  28|            26|      18|        null|        null|2023|01/20/2024 03:41:...|        null|         null|                null|  1|\n",
            "|11227634|   JB147599|null| 001XX W RANDOLPH ST|0281| CRIM SEXUAL ASSAULT|      NON-AGGRAVATED|         HOTEL/MOTEL| false|   false|0122|    null|  42|            32|      02|        null|        null|2017|02/11/2018 03:57:...|        null|         null|                null|  1|\n",
            "|13203321|   JG415333|null|    002XX N Wells st|1320|     CRIMINAL DAMAGE|          TO VEHICLE|PARKING LOT / GAR...| false|   false|0122|    null|  42|            32|      14|     1174694|     1901831|2023|11/04/2023 03:40:...|41.886018055|-87.633937881|(41.886018055, -8...|  1|\n",
            "+--------+-----------+----+--------------------+----+--------------------+--------------------+--------------------+------+--------+----+--------+----+--------------+--------+------------+------------+----+--------------------+------------+-------------+--------------------+---+\n",
            "only showing top 5 rows\n",
            "\n"
          ]
        }
      ],
      "source": [
        "rc.withColumn('One',lit(1)).show(5)"
      ]
    },
    {
      "cell_type": "markdown",
      "metadata": {
        "id": "BKV2ymA2uI2h"
      },
      "source": [
        "**Remove the column IUCR**"
      ]
    },
    {
      "cell_type": "code",
      "execution_count": 22,
      "metadata": {
        "colab": {
          "base_uri": "https://localhost:8080/"
        },
        "id": "3wr2Q9djtXBV",
        "outputId": "06c494af-3f62-40a3-c0fe-87ad6c8df235"
      },
      "outputs": [
        {
          "output_type": "stream",
          "name": "stdout",
          "text": [
            "+--------+-----------+----+--------------------+--------------------+--------------------+--------------------+------+--------+----+--------+----+--------------+--------+------------+------------+----+--------------------+------------+-------------+--------------------+\n",
            "|      ID|Case Number|Date|               Block|        Primary Type|         Description|Location Description|Arrest|Domestic|Beat|District|Ward|Community Area|FBI Code|X Coordinate|Y Coordinate|Year|          Updated On|    Latitude|    Longitude|            Location|\n",
            "+--------+-----------+----+--------------------+--------------------+--------------------+--------------------+------+--------+----+--------+----+--------------+--------+------------+------------+----+--------------------+------------+-------------+--------------------+\n",
            "|      ID|Case Number|null|               Block|        Primary Type|         Description|Location Description|Arrest|    null|Beat|    null|Ward|Community Area|FBI Code|X Coordinate|Y Coordinate|null|          Updated On|        null|         null|            Location|\n",
            "|13311263|   JG503434|null|     023XX S TROY ST|OFFENSE INVOLVING...|   CHILD PORNOGRAPHY|           RESIDENCE|  true|   false|1033|    null|  25|            30|      17|        null|        null|2022|04/18/2024 03:40:...|        null|         null|                null|\n",
            "|13053066|   JG103252|null|039XX W WASHINGTO...|           NARCOTICS|MANUFACTURE / DEL...|            SIDEWALK|  true|   false|1122|    null|  28|            26|      18|        null|        null|2023|01/20/2024 03:41:...|        null|         null|                null|\n",
            "|11227634|   JB147599|null| 001XX W RANDOLPH ST| CRIM SEXUAL ASSAULT|      NON-AGGRAVATED|         HOTEL/MOTEL| false|   false|0122|    null|  42|            32|      02|        null|        null|2017|02/11/2018 03:57:...|        null|         null|                null|\n",
            "|13203321|   JG415333|null|    002XX N Wells st|     CRIMINAL DAMAGE|          TO VEHICLE|PARKING LOT / GAR...| false|   false|0122|    null|  42|            32|      14|     1174694|     1901831|2023|11/04/2023 03:40:...|41.886018055|-87.633937881|(41.886018055, -8...|\n",
            "+--------+-----------+----+--------------------+--------------------+--------------------+--------------------+------+--------+----+--------+----+--------------+--------+------------+------------+----+--------------------+------------+-------------+--------------------+\n",
            "only showing top 5 rows\n",
            "\n"
          ]
        }
      ],
      "source": [
        "rc = rc.drop('IUCR')\n",
        "rc.show(5)"
      ]
    },
    {
      "cell_type": "markdown",
      "metadata": {
        "id": "NiU1nhA3y0j4"
      },
      "source": [
        "## (03-05) Working with rows"
      ]
    },
    {
      "cell_type": "markdown",
      "metadata": {
        "id": "hgnCWSfNZsLV"
      },
      "source": [
        "**Add the reported crimes for an additional day, 12-Nov-2018, to our dataset.**"
      ]
    },
    {
      "cell_type": "code",
      "execution_count": 23,
      "metadata": {
        "colab": {
          "base_uri": "https://localhost:8080/"
        },
        "id": "52EiVt15y0j4",
        "outputId": "70dcf86a-1cff-4ecf-f0ab-0cd23adafbb6"
      },
      "outputs": [
        {
          "output_type": "execute_result",
          "data": {
            "text/plain": [
              "5"
            ]
          },
          "metadata": {},
          "execution_count": 23
        }
      ],
      "source": [
        " one_day = spark.read.csv('reported-crimes.csv',header=True).withColumn('Date',to_timestamp(col('Date'),'MM/dd/yyyy hh:mm:ss a')).filter(col('Date') == lit('2018-11-12'))\n",
        " one_day.count()"
      ]
    },
    {
      "cell_type": "code",
      "execution_count": null,
      "metadata": {
        "id": "cIl7sgoUPyst"
      },
      "outputs": [],
      "source": [
        "rc.union(one_day).orderBy('Date',ascending=False).show(5)"
      ]
    },
    {
      "cell_type": "markdown",
      "metadata": {
        "id": "rzaD3gLyy0j4"
      },
      "source": [
        "**What are the top 10 number of reported crimes by Primary type, in descending order of occurence?**"
      ]
    },
    {
      "cell_type": "code",
      "execution_count": 24,
      "metadata": {
        "colab": {
          "base_uri": "https://localhost:8080/"
        },
        "id": "vl3SHZdty0j5",
        "outputId": "8e4cd936-eaef-400f-903c-ba23352fd620"
      },
      "outputs": [
        {
          "output_type": "stream",
          "name": "stdout",
          "text": [
            "+-------------------+-------+\n",
            "|       Primary Type|  count|\n",
            "+-------------------+-------+\n",
            "|              THEFT|1765298|\n",
            "|            BATTERY|1516732|\n",
            "|    CRIMINAL DAMAGE| 946753|\n",
            "|          NARCOTICS| 761020|\n",
            "|            ASSAULT| 555208|\n",
            "|      OTHER OFFENSE| 518815|\n",
            "|           BURGLARY| 441096|\n",
            "|MOTOR VEHICLE THEFT| 423629|\n",
            "| DECEPTIVE PRACTICE| 381532|\n",
            "|            ROBBERY| 312077|\n",
            "+-------------------+-------+\n",
            "only showing top 10 rows\n",
            "\n"
          ]
        }
      ],
      "source": [
        "rc.groupBy('Primary Type').count().orderBy('count',ascending=False).show(10)"
      ]
    },
    {
      "cell_type": "markdown",
      "metadata": {
        "id": "9sDnyyzozVxA"
      },
      "source": [
        "## (03-06) Challenge"
      ]
    },
    {
      "cell_type": "markdown",
      "metadata": {
        "id": "OdV2UOUczVxA"
      },
      "source": [
        "**What percentage of reported crimes resulted in an arrest?**"
      ]
    },
    {
      "cell_type": "code",
      "execution_count": 25,
      "metadata": {
        "colab": {
          "base_uri": "https://localhost:8080/"
        },
        "id": "-3yQ3XA3zVxB",
        "outputId": "6fb42757-26f8-4666-d56c-08d5ab686ca1"
      },
      "outputs": [
        {
          "output_type": "stream",
          "name": "stdout",
          "text": [
            "+------+\n",
            "|Arrest|\n",
            "+------+\n",
            "|Arrest|\n",
            "| false|\n",
            "|  true|\n",
            "+------+\n",
            "\n"
          ]
        }
      ],
      "source": [
        "rc.select('Arrest').distinct().show()"
      ]
    },
    {
      "cell_type": "code",
      "execution_count": 26,
      "metadata": {
        "colab": {
          "base_uri": "https://localhost:8080/"
        },
        "id": "rxCxcHFUzVxB",
        "outputId": "ffb50368-5510-4523-81ff-7ee27b72d5c2"
      },
      "outputs": [
        {
          "output_type": "stream",
          "name": "stdout",
          "text": [
            "root\n",
            " |-- ID: string (nullable = true)\n",
            " |-- Case Number: string (nullable = true)\n",
            " |-- Date: timestamp (nullable = true)\n",
            " |-- Block: string (nullable = true)\n",
            " |-- Primary Type: string (nullable = true)\n",
            " |-- Description: string (nullable = true)\n",
            " |-- Location Description: string (nullable = true)\n",
            " |-- Arrest: string (nullable = true)\n",
            " |-- Domestic: boolean (nullable = true)\n",
            " |-- Beat: string (nullable = true)\n",
            " |-- District: boolean (nullable = true)\n",
            " |-- Ward: string (nullable = true)\n",
            " |-- Community Area: string (nullable = true)\n",
            " |-- FBI Code: string (nullable = true)\n",
            " |-- X Coordinate: string (nullable = true)\n",
            " |-- Y Coordinate: string (nullable = true)\n",
            " |-- Year: integer (nullable = true)\n",
            " |-- Updated On: string (nullable = true)\n",
            " |-- Latitude: double (nullable = true)\n",
            " |-- Longitude: double (nullable = true)\n",
            " |-- Location: string (nullable = true)\n",
            "\n"
          ]
        }
      ],
      "source": [
        "rc.printSchema()"
      ]
    },
    {
      "cell_type": "code",
      "execution_count": 27,
      "metadata": {
        "colab": {
          "base_uri": "https://localhost:8080/"
        },
        "id": "_XguGvUFzVxB",
        "outputId": "b52c4d46-d6c0-4011-c57e-db3ea135593d"
      },
      "outputs": [
        {
          "output_type": "execute_result",
          "data": {
            "text/plain": [
              "0.2534542710075234"
            ]
          },
          "metadata": {},
          "execution_count": 27
        }
      ],
      "source": [
        "rc.filter(col('Arrest') == 'true').count() / rc.select('Arrest').count()"
      ]
    },
    {
      "cell_type": "markdown",
      "metadata": {
        "id": "6etuZFwczVxB"
      },
      "source": [
        "  **What are the top 3 locations for reported crimes?**"
      ]
    },
    {
      "cell_type": "code",
      "execution_count": 28,
      "metadata": {
        "colab": {
          "base_uri": "https://localhost:8080/"
        },
        "id": "05kJeui5zVxB",
        "outputId": "489f54a5-4eb0-41e5-fdec-d80db2a19dc7"
      },
      "outputs": [
        {
          "output_type": "stream",
          "name": "stdout",
          "text": [
            "+--------------------+-------+\n",
            "|Location Description|  count|\n",
            "+--------------------+-------+\n",
            "|              STREET|2174476|\n",
            "|           RESIDENCE|1371604|\n",
            "|           APARTMENT| 982473|\n",
            "+--------------------+-------+\n",
            "only showing top 3 rows\n",
            "\n"
          ]
        }
      ],
      "source": [
        "rc.groupBy('Location Description').count().orderBy('count',ascending=False).show(3)"
      ]
    },
    {
      "cell_type": "markdown",
      "metadata": {
        "id": "D7Dw2UpQ08-9"
      },
      "source": [
        "## (04-01) Built-in functions"
      ]
    },
    {
      "cell_type": "code",
      "execution_count": 29,
      "metadata": {
        "id": "8b9jy_g708--"
      },
      "outputs": [],
      "source": [
        "from pyspark.sql import functions"
      ]
    },
    {
      "cell_type": "code",
      "execution_count": 30,
      "metadata": {
        "colab": {
          "base_uri": "https://localhost:8080/"
        },
        "id": "z7m60N3_08--",
        "outputId": "dd2ea543-fd1e-49a1-9d94-0cac1816fda3"
      },
      "outputs": [
        {
          "output_type": "stream",
          "name": "stdout",
          "text": [
            "['Any', 'ArrayType', 'Callable', 'Column', 'DataFrame', 'DataType', 'Dict', 'Iterable', 'JVMView', 'List', 'Optional', 'PandasUDFType', 'PySparkTypeError', 'PySparkValueError', 'PythonEvalType', 'SparkContext', 'StringType', 'StructType', 'TYPE_CHECKING', 'Tuple', 'Union', 'UserDefinedFunction', 'ValuesView', '__builtins__', '__cached__', '__doc__', '__file__', '__loader__', '__name__', '__package__', '__spec__', '_create_column_from_literal', '_create_lambda', '_create_py_udf', '_from_numpy_type', '_get_jvm_function', '_get_lambda_parameters', '_invoke_binary_math_function', '_invoke_function', '_invoke_function_over_columns', '_invoke_function_over_seq_of_columns', '_invoke_higher_order_function', '_options_to_str', '_test', '_to_java_column', '_to_seq', '_unresolved_named_lambda_variable', 'abs', 'acos', 'acosh', 'add_months', 'aggregate', 'approxCountDistinct', 'approx_count_distinct', 'array', 'array_append', 'array_compact', 'array_contains', 'array_distinct', 'array_except', 'array_insert', 'array_intersect', 'array_join', 'array_max', 'array_min', 'array_position', 'array_remove', 'array_repeat', 'array_sort', 'array_union', 'arrays_overlap', 'arrays_zip', 'asc', 'asc_nulls_first', 'asc_nulls_last', 'ascii', 'asin', 'asinh', 'assert_true', 'atan', 'atan2', 'atanh', 'avg', 'base64', 'bin', 'bit_length', 'bitwiseNOT', 'bitwise_not', 'broadcast', 'bround', 'bucket', 'call_udf', 'cast', 'cbrt', 'ceil', 'coalesce', 'col', 'collect_list', 'collect_set', 'column', 'concat', 'concat_ws', 'conv', 'corr', 'cos', 'cosh', 'cot', 'count', 'countDistinct', 'count_distinct', 'covar_pop', 'covar_samp', 'crc32', 'create_map', 'csc', 'cume_dist', 'current_date', 'current_timestamp', 'date_add', 'date_format', 'date_sub', 'date_trunc', 'datediff', 'dayofmonth', 'dayofweek', 'dayofyear', 'days', 'decode', 'degrees', 'dense_rank', 'desc', 'desc_nulls_first', 'desc_nulls_last', 'element_at', 'encode', 'exists', 'exp', 'explode', 'explode_outer', 'expm1', 'expr', 'factorial', 'filter', 'first', 'flatten', 'floor', 'forall', 'format_number', 'format_string', 'from_csv', 'from_json', 'from_unixtime', 'from_utc_timestamp', 'functools', 'get', 'get_active_spark_context', 'get_json_object', 'greatest', 'grouping', 'grouping_id', 'has_numpy', 'hash', 'hex', 'hour', 'hours', 'hypot', 'initcap', 'inline', 'inline_outer', 'input_file_name', 'inspect', 'instr', 'isnan', 'isnull', 'json_tuple', 'kurtosis', 'lag', 'last', 'last_day', 'lead', 'least', 'length', 'levenshtein', 'lit', 'localtimestamp', 'locate', 'log', 'log10', 'log1p', 'log2', 'lower', 'lpad', 'ltrim', 'make_date', 'map_concat', 'map_contains_key', 'map_entries', 'map_filter', 'map_from_arrays', 'map_from_entries', 'map_keys', 'map_values', 'map_zip_with', 'max', 'max_by', 'md5', 'mean', 'median', 'min', 'min_by', 'minute', 'mode', 'monotonically_increasing_id', 'month', 'months', 'months_between', 'nanvl', 'next_day', 'np', 'nth_value', 'ntile', 'octet_length', 'overlay', 'overload', 'pandas_udf', 'percent_rank', 'percentile_approx', 'pmod', 'posexplode', 'posexplode_outer', 'pow', 'product', 'quarter', 'radians', 'raise_error', 'rand', 'randn', 'rank', 'regexp_extract', 'regexp_replace', 'repeat', 'reverse', 'rint', 'round', 'row_number', 'rpad', 'rtrim', 'schema_of_csv', 'schema_of_json', 'sec', 'second', 'sentences', 'sequence', 'session_window', 'sha1', 'sha2', 'shiftLeft', 'shiftRight', 'shiftRightUnsigned', 'shiftleft', 'shiftright', 'shiftrightunsigned', 'shuffle', 'signum', 'sin', 'sinh', 'size', 'skewness', 'slice', 'sort_array', 'soundex', 'spark_partition_id', 'split', 'sqrt', 'stddev', 'stddev_pop', 'stddev_samp', 'struct', 'substring', 'substring_index', 'sum', 'sumDistinct', 'sum_distinct', 'sys', 'tan', 'tanh', 'timestamp_seconds', 'toDegrees', 'toRadians', 'to_csv', 'to_date', 'to_json', 'to_str', 'to_timestamp', 'to_utc_timestamp', 'transform', 'transform_keys', 'transform_values', 'translate', 'trim', 'trunc', 'try_remote_functions', 'udf', 'unbase64', 'unhex', 'unix_timestamp', 'unwrap_udt', 'upper', 'var_pop', 'var_samp', 'variance', 'warnings', 'weekofyear', 'when', 'window', 'window_time', 'xxhash64', 'year', 'years', 'zip_with']\n"
          ]
        }
      ],
      "source": [
        "print(dir(functions))"
      ]
    },
    {
      "cell_type": "markdown",
      "metadata": {
        "id": "1yL-b-swunTM"
      },
      "source": [
        "### String functions"
      ]
    },
    {
      "cell_type": "markdown",
      "metadata": {
        "id": "rHp9A7wyp1L4"
      },
      "source": [
        "**Display the Primary Type column in lower and upper characters, and the first 4 characters of the column**"
      ]
    },
    {
      "cell_type": "code",
      "execution_count": 31,
      "metadata": {
        "id": "4HNqGQKCqE9K"
      },
      "outputs": [],
      "source": [
        "from pyspark.sql.functions import lower, upper, substring"
      ]
    },
    {
      "cell_type": "code",
      "execution_count": 32,
      "metadata": {
        "colab": {
          "base_uri": "https://localhost:8080/"
        },
        "id": "BgwSt2ta08--",
        "outputId": "543e7aca-b9bb-4b80-dfab-2d0e36277fad"
      },
      "outputs": [
        {
          "output_type": "stream",
          "name": "stdout",
          "text": [
            "Help on function substring in module pyspark.sql.functions:\n",
            "\n",
            "substring(str: 'ColumnOrName', pos: int, len: int) -> pyspark.sql.column.Column\n",
            "    Substring starts at `pos` and is of length `len` when str is String type or\n",
            "    returns the slice of byte array that starts at `pos` in byte and is of length `len`\n",
            "    when str is Binary type.\n",
            "    \n",
            "    .. versionadded:: 1.5.0\n",
            "    \n",
            "    .. versionchanged:: 3.4.0\n",
            "        Supports Spark Connect.\n",
            "    \n",
            "    Notes\n",
            "    -----\n",
            "    The position is not zero based, but 1 based index.\n",
            "    \n",
            "    Parameters\n",
            "    ----------\n",
            "    str : :class:`~pyspark.sql.Column` or str\n",
            "        target column to work on.\n",
            "    pos : int\n",
            "        starting position in str.\n",
            "    len : int\n",
            "        length of chars.\n",
            "    \n",
            "    Returns\n",
            "    -------\n",
            "    :class:`~pyspark.sql.Column`\n",
            "        substring of given value.\n",
            "    \n",
            "    Examples\n",
            "    --------\n",
            "    >>> df = spark.createDataFrame([('abcd',)], ['s',])\n",
            "    >>> df.select(substring(df.s, 1, 2).alias('s')).collect()\n",
            "    [Row(s='ab')]\n",
            "\n"
          ]
        }
      ],
      "source": [
        "help(substring)"
      ]
    },
    {
      "cell_type": "code",
      "execution_count": 33,
      "metadata": {
        "colab": {
          "base_uri": "https://localhost:8080/"
        },
        "id": "paBHWrTYZoRJ",
        "outputId": "a3bc9a65-ebdc-49d9-deac-23b01a7a541b"
      },
      "outputs": [
        {
          "output_type": "stream",
          "name": "stdout",
          "text": [
            "+--------------------+--------------------+-----------------------------+\n",
            "| lower(Primary Type)| upper(Primary Type)|substring(Primary Type, 1, 4)|\n",
            "+--------------------+--------------------+-----------------------------+\n",
            "|        primary type|        PRIMARY TYPE|                         Prim|\n",
            "|offense involving...|OFFENSE INVOLVING...|                         OFFE|\n",
            "|           narcotics|           NARCOTICS|                         NARC|\n",
            "| crim sexual assault| CRIM SEXUAL ASSAULT|                         CRIM|\n",
            "|     criminal damage|     CRIMINAL DAMAGE|                         CRIM|\n",
            "+--------------------+--------------------+-----------------------------+\n",
            "only showing top 5 rows\n",
            "\n"
          ]
        }
      ],
      "source": [
        "rc.select(lower(col('Primary Type')),upper(col('Primary Type')),substring(col('Primary Type'),1,4)).show(5)"
      ]
    },
    {
      "cell_type": "markdown",
      "metadata": {
        "id": "ZYDsLbbrf6dK"
      },
      "source": [
        "### Numeric functions\n"
      ]
    },
    {
      "cell_type": "markdown",
      "metadata": {
        "id": "H5CZwvAwhpCx"
      },
      "source": [
        "**Show the oldest date and the most recent date**"
      ]
    },
    {
      "cell_type": "code",
      "execution_count": 34,
      "metadata": {
        "id": "oP8NWAiUuSJC"
      },
      "outputs": [],
      "source": [
        "from pyspark.sql.functions import min, max"
      ]
    },
    {
      "cell_type": "code",
      "execution_count": 35,
      "metadata": {
        "colab": {
          "base_uri": "https://localhost:8080/"
        },
        "id": "juNQDv2108-_",
        "outputId": "7e90dcca-8686-47f3-c979-42cb3eb22f7e"
      },
      "outputs": [
        {
          "output_type": "stream",
          "name": "stdout",
          "text": [
            "+---------+---------+\n",
            "|min(Date)|max(Date)|\n",
            "+---------+---------+\n",
            "|     null|     null|\n",
            "+---------+---------+\n",
            "\n"
          ]
        }
      ],
      "source": [
        "rc.select(min(col('Date')),max(col('Date'))).show(1)"
      ]
    },
    {
      "cell_type": "markdown",
      "metadata": {
        "id": "4BJvThINk7o-"
      },
      "source": [
        "### Date"
      ]
    },
    {
      "cell_type": "markdown",
      "metadata": {
        "id": "Qjh1t1XamJ-E"
      },
      "source": [
        "**What is 3 days earlier that the oldest date and 3 days later than the most recent date?**"
      ]
    },
    {
      "cell_type": "code",
      "execution_count": 36,
      "metadata": {
        "id": "NMFcA4rhlOs3"
      },
      "outputs": [],
      "source": [
        "from pyspark.sql.functions import date_add, date_sub"
      ]
    },
    {
      "cell_type": "code",
      "execution_count": 37,
      "metadata": {
        "colab": {
          "base_uri": "https://localhost:8080/"
        },
        "id": "6_12orCSlXPe",
        "outputId": "9522ecbe-4365-44b1-dafe-0acd160729e3"
      },
      "outputs": [
        {
          "output_type": "stream",
          "name": "stdout",
          "text": [
            "Help on function date_add in module pyspark.sql.functions:\n",
            "\n",
            "date_add(start: 'ColumnOrName', days: Union[ForwardRef('ColumnOrName'), int]) -> pyspark.sql.column.Column\n",
            "    Returns the date that is `days` days after `start`. If `days` is a negative value\n",
            "    then these amount of days will be deducted from `start`.\n",
            "    \n",
            "    .. versionadded:: 1.5.0\n",
            "    \n",
            "    .. versionchanged:: 3.4.0\n",
            "        Supports Spark Connect.\n",
            "    \n",
            "    Parameters\n",
            "    ----------\n",
            "    start : :class:`~pyspark.sql.Column` or str\n",
            "        date column to work on.\n",
            "    days : :class:`~pyspark.sql.Column` or str or int\n",
            "        how many days after the given date to calculate.\n",
            "        Accepts negative value as well to calculate backwards in time.\n",
            "    \n",
            "    Returns\n",
            "    -------\n",
            "    :class:`~pyspark.sql.Column`\n",
            "        a date after/before given number of days.\n",
            "    \n",
            "    Examples\n",
            "    --------\n",
            "    >>> df = spark.createDataFrame([('2015-04-08', 2,)], ['dt', 'add'])\n",
            "    >>> df.select(date_add(df.dt, 1).alias('next_date')).collect()\n",
            "    [Row(next_date=datetime.date(2015, 4, 9))]\n",
            "    >>> df.select(date_add(df.dt, df.add.cast('integer')).alias('next_date')).collect()\n",
            "    [Row(next_date=datetime.date(2015, 4, 10))]\n",
            "    >>> df.select(date_add('dt', -1).alias('prev_date')).collect()\n",
            "    [Row(prev_date=datetime.date(2015, 4, 7))]\n",
            "\n"
          ]
        }
      ],
      "source": [
        "help(date_add)"
      ]
    },
    {
      "cell_type": "code",
      "execution_count": 38,
      "metadata": {
        "colab": {
          "base_uri": "https://localhost:8080/"
        },
        "id": "b7gl5IbB08-_",
        "outputId": "c9917b78-9902-4c41-bb5f-d5f00bd058c3"
      },
      "outputs": [
        {
          "output_type": "stream",
          "name": "stdout",
          "text": [
            "+----------------------+----------------------+\n",
            "|date_sub(min(Date), 3)|date_add(max(Date), 3)|\n",
            "+----------------------+----------------------+\n",
            "|                  null|                  null|\n",
            "+----------------------+----------------------+\n",
            "\n"
          ]
        }
      ],
      "source": [
        "rc.select(date_sub(min(col('Date')),3),date_add(max(col('Date')),3)).show(1)"
      ]
    },
    {
      "cell_type": "markdown",
      "metadata": {
        "id": "hiKFyArf14B0"
      },
      "source": [
        "## (04-02) Working with dates"
      ]
    },
    {
      "cell_type": "code",
      "execution_count": null,
      "metadata": {
        "colab": {
          "base_uri": "https://localhost:8080/"
        },
        "id": "9npwvNTx1SCj",
        "outputId": "122a16d4-440a-45ef-a4a5-1904a1d39200"
      },
      "outputs": [
        {
          "name": "stdout",
          "output_type": "stream",
          "text": [
            "+-------------------+-------------------+\n",
            "|to_date(2019-12-25)|to_date(2019-25-15)|\n",
            "+-------------------+-------------------+\n",
            "|         2019-12-25|               null|\n",
            "+-------------------+-------------------+\n",
            "only showing top 1 row\n",
            "\n"
          ]
        }
      ],
      "source": [
        "# Assuming that 'rc' is the intended DataFrame\n",
        "rc.select(to_date(lit('2019-12-25')),to_date(lit('2019-25-15'))).show(1)"
      ]
    },
    {
      "cell_type": "code",
      "execution_count": null,
      "metadata": {
        "id": "T72w9V0mK0K2"
      },
      "outputs": [],
      "source": [
        "from pyspark.sql.functions import to_date, to_timestamp, lit"
      ]
    },
    {
      "cell_type": "markdown",
      "metadata": {
        "id": "WkUMZnY5yc6q"
      },
      "source": [
        "  **2019-12-25 13:30:00**"
      ]
    },
    {
      "cell_type": "code",
      "execution_count": null,
      "metadata": {
        "colab": {
          "base_uri": "https://localhost:8080/"
        },
        "id": "vvFFnqmQ14B0",
        "outputId": "5bebf550-012e-466b-de84-db6fdd921b83"
      },
      "outputs": [
        {
          "name": "stdout",
          "output_type": "stream",
          "text": [
            "+-------------------+\n",
            "|          Christmas|\n",
            "+-------------------+\n",
            "|2019-12-25 13:30:00|\n",
            "+-------------------+\n",
            "\n"
          ]
        }
      ],
      "source": [
        "df = spark.createDataFrame([('2019-12-25 13:30:00',)],['Christmas'])\n",
        "df.show(1)"
      ]
    },
    {
      "cell_type": "code",
      "execution_count": null,
      "metadata": {
        "colab": {
          "base_uri": "https://localhost:8080/"
        },
        "id": "87RJNjRty-W7",
        "outputId": "aababe30-2ed1-4c11-84ee-80a957ae36b7"
      },
      "outputs": [
        {
          "name": "stdout",
          "output_type": "stream",
          "text": [
            "+---------------------------------------+-----------------------+\n",
            "|to_date(Christmas, yyyy-MM-dd HH:mm:ss)|to_timestamp(Christmas)|\n",
            "+---------------------------------------+-----------------------+\n",
            "|                             2019-12-25|    2019-12-25 13:30:00|\n",
            "+---------------------------------------+-----------------------+\n",
            "\n"
          ]
        }
      ],
      "source": [
        "df.select(to_date(col('Christmas'),'yyyy-MM-dd HH:mm:ss'),to_timestamp(col('Christmas'))).show(1)"
      ]
    },
    {
      "cell_type": "markdown",
      "metadata": {
        "id": "r57RvNLFy1qr"
      },
      "source": [
        "**25/Dec/2019 13:30:00**"
      ]
    },
    {
      "cell_type": "code",
      "execution_count": null,
      "metadata": {
        "colab": {
          "base_uri": "https://localhost:8080/"
        },
        "id": "qWSM7QZIy1O7",
        "outputId": "b188e23a-43ee-42f8-e3de-c49832561fd5"
      },
      "outputs": [
        {
          "name": "stdout",
          "output_type": "stream",
          "text": [
            "+--------------------+\n",
            "|Christmas           |\n",
            "+--------------------+\n",
            "|25/Dec/2019 13:30:00|\n",
            "+--------------------+\n",
            "\n"
          ]
        }
      ],
      "source": [
        "df = spark.createDataFrame([('25/Dec/2019 13:30:00',)],['Christmas'])\n",
        "df.show(1,truncate=False)\n"
      ]
    },
    {
      "cell_type": "code",
      "execution_count": null,
      "metadata": {
        "colab": {
          "base_uri": "https://localhost:8080/"
        },
        "id": "_Bth-66Zy_na",
        "outputId": "0d3acb19-5711-4793-c0b0-81d3d8650081"
      },
      "outputs": [
        {
          "name": "stdout",
          "output_type": "stream",
          "text": [
            "+----------------------------------------+---------------------------------------------+\n",
            "|to_date(Christmas, dd/MMM/yyyy HH:mm:ss)|to_timestamp(Christmas, dd/MMM/yyyy HH:mm:ss)|\n",
            "+----------------------------------------+---------------------------------------------+\n",
            "|                              2019-12-25|                          2019-12-25 13:30:00|\n",
            "+----------------------------------------+---------------------------------------------+\n",
            "\n"
          ]
        }
      ],
      "source": [
        "df.select(to_date(col('Christmas'),'dd/MMM/yyyy HH:mm:ss'),to_timestamp(col('Christmas'),'dd/MMM/yyyy HH:mm:ss')).show(1)"
      ]
    },
    {
      "cell_type": "markdown",
      "metadata": {
        "id": "4DcjnoaKzBQr"
      },
      "source": [
        "**12/25/2019 01:30:00 PM**"
      ]
    },
    {
      "cell_type": "code",
      "execution_count": null,
      "metadata": {
        "colab": {
          "base_uri": "https://localhost:8080/"
        },
        "id": "WldJB29T80O2",
        "outputId": "daecd19c-66f5-4a11-fa43-080b0a958074"
      },
      "outputs": [
        {
          "name": "stdout",
          "output_type": "stream",
          "text": [
            "+----------------------+\n",
            "|Christmas             |\n",
            "+----------------------+\n",
            "|12/25/2019 01:30:00 PM|\n",
            "+----------------------+\n",
            "\n"
          ]
        }
      ],
      "source": [
        "df = spark.createDataFrame([('12/25/2019 01:30:00 PM',)],['Christmas'])\n",
        "df.show(1,truncate=False)"
      ]
    },
    {
      "cell_type": "code",
      "execution_count": null,
      "metadata": {
        "colab": {
          "base_uri": "https://localhost:8080/"
        },
        "id": "SqOg9qzQRAbi",
        "outputId": "69626e37-6e9e-42fb-974b-3081f25460a2"
      },
      "outputs": [
        {
          "name": "stdout",
          "output_type": "stream",
          "text": [
            "+-----------------------------------------+----------------------------------------------+\n",
            "|to_date(Christmas, MM/dd/yyyy hh:mm:ss a)|to_timestamp(Christmas, MM/dd/yyyy hh:mm:ss a)|\n",
            "+-----------------------------------------+----------------------------------------------+\n",
            "|                               2019-12-25|                           2019-12-25 13:30:00|\n",
            "+-----------------------------------------+----------------------------------------------+\n",
            "\n"
          ]
        }
      ],
      "source": [
        "df.select(to_date(col('Christmas'),'MM/dd/yyyy hh:mm:ss a'),to_timestamp(col('Christmas'),'MM/dd/yyyy hh:mm:ss a')).show(1)"
      ]
    },
    {
      "cell_type": "code",
      "execution_count": null,
      "metadata": {
        "colab": {
          "base_uri": "https://localhost:8080/"
        },
        "id": "YupfXKVpRhg6",
        "outputId": "c224dc36-b531-4a4c-d470-a914f5e2b91b"
      },
      "outputs": [
        {
          "name": "stdout",
          "output_type": "stream",
          "text": [
            "+--------+-----------+----------------------+-------------------------+----+------------+-------------------------------------------------------+--------------------+------+--------+----+--------+----+--------------+--------+------------+------------+----+----------------------+------------+-------------+-----------------------------+\n",
            "|ID      |Case Number|Date                  |Block                    |IUCR|Primary Type|Description                                            |Location Description|Arrest|Domestic|Beat|District|Ward|Community Area|FBI Code|X Coordinate|Y Coordinate|Year|Updated On            |Latitude    |Longitude    |Location                     |\n",
            "+--------+-----------+----------------------+-------------------------+----+------------+-------------------------------------------------------+--------------------+------+--------+----+--------+----+--------------+--------+------------+------------+----+----------------------+------------+-------------+-----------------------------+\n",
            "|5741943 |HN549294   |08/25/2007 09:22:18 AM|074XX N ROGERS AVE       |0560|ASSAULT     |SIMPLE                                                 |OTHER               |false |false   |2422|024     |49  |1             |08A     |null        |null        |2007|08/17/2015 03:03:40 PM|null        |null         |null                         |\n",
            "|25953   |JE240540   |05/24/2021 03:06:00 PM|020XX N LARAMIE AVE      |0110|HOMICIDE    |FIRST DEGREE MURDER                                    |STREET              |true  |false   |2515|025     |36  |19            |01A     |1141387     |1913179     |2021|11/18/2023 03:39:49 PM|41.917838056|-87.755968972|(41.917838056, -87.755968972)|\n",
            "|26038   |JE279849   |06/26/2021 09:24:00 AM|062XX N MC CORMICK RD    |0110|HOMICIDE    |FIRST DEGREE MURDER                                    |PARKING LOT         |true  |false   |1711|017     |50  |13            |01A     |1152781     |1941458     |2021|11/18/2023 03:39:49 PM|41.995219444|-87.713354912|(41.995219444, -87.713354912)|\n",
            "|13279676|JG507211   |11/09/2023 07:30:00 AM|019XX W BYRON ST         |0620|BURGLARY    |UNLAWFUL ENTRY                                         |APARTMENT           |false |false   |1922|019     |47  |5             |05      |1162518     |1925906     |2023|11/18/2023 03:39:49 PM|41.952345086|-87.677975059|(41.952345086, -87.677975059)|\n",
            "|13274752|JG501049   |11/12/2023 07:59:00 AM|086XX S COTTAGE GROVE AVE|0454|BATTERY     |AGGRAVATED P.O. - HANDS, FISTS, FEET, NO / MINOR INJURY|SMALL RETAIL STORE  |true  |false   |0632|006     |6   |44            |08B     |1183071     |1847869     |2023|12/09/2023 03:41:24 PM|41.737750767|-87.604855911|(41.737750767, -87.604855911)|\n",
            "+--------+-----------+----------------------+-------------------------+----+------------+-------------------------------------------------------+--------------------+------+--------+----+--------+----+--------------+--------+------------+------------+----+----------------------+------------+-------------+-----------------------------+\n",
            "only showing top 5 rows\n",
            "\n"
          ]
        }
      ],
      "source": [
        "nrc = spark.read.csv('reported-crimes.csv',header=True)\n",
        "nrc.show(5,truncate=False)"
      ]
    },
    {
      "cell_type": "markdown",
      "metadata": {
        "id": "9lAyzg282V_4"
      },
      "source": [
        "## (04-03) Joins"
      ]
    },
    {
      "cell_type": "markdown",
      "metadata": {
        "id": "5klVM9jJZBDl"
      },
      "source": [
        "**Download police station data**"
      ]
    },
    {
      "cell_type": "code",
      "execution_count": 61,
      "metadata": {
        "colab": {
          "base_uri": "https://localhost:8080/"
        },
        "id": "c7CFhY3K2V_5",
        "outputId": "dfceec19-1f41-4280-f117-fdea2e1b05aa"
      },
      "outputs": [
        {
          "output_type": "stream",
          "name": "stdout",
          "text": [
            "--2025-06-01 05:13:37--  https://data.cityofchicago.org/api/views/z8bn-74gv/rows.csv?accessType=DOWNLOAD\n",
            "Resolving data.cityofchicago.org (data.cityofchicago.org)... 52.206.68.26, 52.206.140.199, 52.206.140.205\n",
            "Connecting to data.cityofchicago.org (data.cityofchicago.org)|52.206.68.26|:443... connected.\n",
            "HTTP request sent, awaiting response... 200 OK\n",
            "Length: unspecified [text/csv]\n",
            "Saving to: ‘police-station.csv’\n",
            "\n",
            "police-station.csv      [ <=>                ]   5.57K  --.-KB/s    in 0s      \n",
            "\n",
            "2025-06-01 05:13:37 (1.36 GB/s) - ‘police-station.csv’ saved [5699]\n",
            "\n"
          ]
        }
      ],
      "source": [
        "!wget -O police-station.csv https://data.cityofchicago.org/api/views/z8bn-74gv/rows.csv?accessType=DOWNLOAD"
      ]
    },
    {
      "cell_type": "code",
      "execution_count": 62,
      "metadata": {
        "colab": {
          "base_uri": "https://localhost:8080/"
        },
        "id": "R47fcwV82V_5",
        "outputId": "c2eafa46-66a6-468d-cab6-a5cfdadb0ac7"
      },
      "outputs": [
        {
          "output_type": "stream",
          "name": "stdout",
          "text": [
            "+------------+-------------+-------------------+-------+-----+-----+--------------------+------------+------------+------------+------------+------------+-----------+------------+--------------------+\n",
            "|    DISTRICT|DISTRICT NAME|            ADDRESS|   CITY|STATE|  ZIP|             WEBSITE|       PHONE|         FAX|         TTY|X COORDINATE|Y COORDINATE|   LATITUDE|   LONGITUDE|            LOCATION|\n",
            "+------------+-------------+-------------------+-------+-----+-----+--------------------+------------+------------+------------+------------+------------+-----------+------------+--------------------+\n",
            "|Headquarters| Headquarters|3510 S Michigan Ave|Chicago|   IL|60653|http://home.chica...|        null|        null|        null| 1177731.401| 1881697.404|41.83070169|-87.62339535|(41.8307016873, -...|\n",
            "|          18|   Near North| 1160 N Larrabee St|Chicago|   IL|60610|http://home.chica...|312-742-5870|312-742-5771|312-742-5773| 1172080.029| 1908086.527|41.90324165|-87.64335214|(41.9032416531, -...|\n",
            "|          19|    Town Hall|   850 W Addison St|Chicago|   IL|60613|http://home.chica...|312-744-8320|312-744-4481|312-744-8011| 1169730.744| 1924160.317|41.94740046|-87.65151202|(41.9474004564, -...|\n",
            "|          20|      Lincoln| 5400 N Lincoln Ave|Chicago|   IL|60625|http://home.chica...|312-742-8714|312-742-8803|312-742-8841| 1158399.146| 1935788.826|41.97954951|-87.69284451|(41.9795495131, -...|\n",
            "|          22|  Morgan Park|1900 W Monterey Ave|Chicago|   IL|60643|http://home.chica...|312-745-0710|312-745-0814|312-745-0569| 1165825.476| 1830851.333|41.69143478|-87.66852039|(41.6914347795, -...|\n",
            "+------------+-------------+-------------------+-------+-----+-----+--------------------+------------+------------+------------+------------+------------+-----------+------------+--------------------+\n",
            "only showing top 5 rows\n",
            "\n"
          ]
        }
      ],
      "source": [
        "ps = spark.read.csv('police-station.csv',header=True)\n",
        "ps.show(5)"
      ]
    },
    {
      "cell_type": "markdown",
      "metadata": {
        "id": "CdBqB9Oiw0gV"
      },
      "source": [
        "**The reported crimes dataset has only the district number. Add the district name by joining with the police station dataset**"
      ]
    },
    {
      "cell_type": "code",
      "execution_count": null,
      "metadata": {
        "colab": {
          "background_save": true
        },
        "id": "S84o4-yZ2V_5",
        "outputId": "4173e2c5-bf5d-4aa6-8e74-ce75c37ae5df"
      },
      "outputs": [
        {
          "data": {
            "text/plain": [
              "8174896"
            ]
          },
          "execution_count": 48,
          "metadata": {},
          "output_type": "execute_result"
        }
      ],
      "source": [
        "rc.cache()\n",
        "rc.count()"
      ]
    },
    {
      "cell_type": "code",
      "execution_count": null,
      "metadata": {
        "colab": {
          "base_uri": "https://localhost:8080/"
        },
        "id": "GP90Bm-lc52-",
        "outputId": "2dee7b48-b4f8-4a5e-b134-a0e428e10a2e"
      },
      "outputs": [
        {
          "name": "stdout",
          "output_type": "stream",
          "text": [
            "+--------------------+\n",
            "|            DISTRICT|\n",
            "+--------------------+\n",
            "|                   7|\n",
            "|                  15|\n",
            "|                  11|\n",
            "|                   3|\n",
            "|                   8|\n",
            "|                  22|\n",
            "|                  16|\n",
            "|                   5|\n",
            "|                  18|\n",
            "|                  17|\n",
            "|                   6|\n",
            "|                  19|\n",
            "|                  25|\n",
            "|        Headquarters|\n",
            "|                  24|\n",
            "|                   9|\n",
            "|                   1|\n",
            "|                  20|\n",
            "|                  10|\n",
            "|                   4|\n",
            "|                  12|\n",
            "|                  14|\n",
            "|                   2|\n",
            "|\",Chicago,IL,6060...|\n",
            "+--------------------+\n",
            "\n"
          ]
        }
      ],
      "source": [
        "ps.select(col('DISTRICT')).distinct().show(30)"
      ]
    },
    {
      "cell_type": "code",
      "execution_count": null,
      "metadata": {
        "colab": {
          "base_uri": "https://localhost:8080/"
        },
        "id": "zbdoVA6Gc6mG",
        "outputId": "719d6966-73cb-4493-8922-5c24c4e3e1e1"
      },
      "outputs": [
        {
          "name": "stdout",
          "output_type": "stream",
          "text": [
            "+--------+\n",
            "|District|\n",
            "+--------+\n",
            "|     009|\n",
            "|     012|\n",
            "|     024|\n",
            "|     031|\n",
            "|     015|\n",
            "|     006|\n",
            "|     019|\n",
            "|     020|\n",
            "|     011|\n",
            "|     025|\n",
            "|     005|\n",
            "|     003|\n",
            "|     016|\n",
            "|     018|\n",
            "|     008|\n",
            "|     022|\n",
            "|     001|\n",
            "|     014|\n",
            "|     010|\n",
            "|     004|\n",
            "|     017|\n",
            "|     007|\n",
            "|     002|\n",
            "|    null|\n",
            "+--------+\n",
            "\n"
          ]
        }
      ],
      "source": [
        "rc.select('District').distinct().show(30)"
      ]
    },
    {
      "cell_type": "code",
      "execution_count": null,
      "metadata": {
        "id": "V06UpJ4Tc7oJ"
      },
      "outputs": [],
      "source": [
        "from pyspark.sql.functions import lpad"
      ]
    },
    {
      "cell_type": "code",
      "execution_count": null,
      "metadata": {
        "colab": {
          "base_uri": "https://localhost:8080/"
        },
        "id": "S_YiRfSgc7em",
        "outputId": "c0381ada-f769-4c28-9f6e-87c1b4cb89e6"
      },
      "outputs": [
        {
          "name": "stdout",
          "output_type": "stream",
          "text": [
            "Help on function lpad in module pyspark.sql.functions:\n",
            "\n",
            "lpad(col: 'ColumnOrName', len: int, pad: str) -> pyspark.sql.column.Column\n",
            "    Left-pad the string column to width `len` with `pad`.\n",
            "    \n",
            "    .. versionadded:: 1.5.0\n",
            "    \n",
            "    .. versionchanged:: 3.4.0\n",
            "        Supports Spark Connect.\n",
            "    \n",
            "    Parameters\n",
            "    ----------\n",
            "    col : :class:`~pyspark.sql.Column` or str\n",
            "        target column to work on.\n",
            "    len : int\n",
            "        length of the final string.\n",
            "    pad : str\n",
            "        chars to prepend.\n",
            "    \n",
            "    Returns\n",
            "    -------\n",
            "    :class:`~pyspark.sql.Column`\n",
            "        left padded result.\n",
            "    \n",
            "    Examples\n",
            "    --------\n",
            "    >>> df = spark.createDataFrame([('abcd',)], ['s',])\n",
            "    >>> df.select(lpad(df.s, 6, '#').alias('s')).collect()\n",
            "    [Row(s='##abcd')]\n",
            "\n"
          ]
        }
      ],
      "source": [
        "help(lpad)"
      ]
    },
    {
      "cell_type": "code",
      "execution_count": null,
      "metadata": {
        "colab": {
          "base_uri": "https://localhost:8080/"
        },
        "id": "nWQMpWQec7SO",
        "outputId": "12d4012b-4e90-4562-d9ff-0af9f67e1071"
      },
      "outputs": [
        {
          "name": "stdout",
          "output_type": "stream",
          "text": [
            "+--------------------+\n",
            "|lpad(DISTRICT, 3, 0)|\n",
            "+--------------------+\n",
            "|                 Hea|\n",
            "|                 018|\n",
            "|                 019|\n",
            "|                 020|\n",
            "|                 022|\n",
            "|                 024|\n",
            "|                 025|\n",
            "|                 001|\n",
            "|                 002|\n",
            "|                 003|\n",
            "|                 004|\n",
            "|                 005|\n",
            "|                 006|\n",
            "|                 007|\n",
            "|                 008|\n",
            "|                 009|\n",
            "|                 010|\n",
            "|                 011|\n",
            "|                 012|\n",
            "|                 \",C|\n",
            "+--------------------+\n",
            "only showing top 20 rows\n",
            "\n"
          ]
        }
      ],
      "source": [
        "ps.select(lpad(col('DISTRICT'),3,'0')).show()"
      ]
    },
    {
      "cell_type": "code",
      "execution_count": null,
      "metadata": {
        "colab": {
          "base_uri": "https://localhost:8080/"
        },
        "id": "n4eBu-vMc6bN",
        "outputId": "e254de63-e106-4b26-c3c1-22d97558d20e"
      },
      "outputs": [
        {
          "name": "stdout",
          "output_type": "stream",
          "text": [
            "+------------+-------------+-------------------+-------+-----+-----+--------------------+------------+------------+------------+------------+------------+-----------+------------+--------------------+---------------+\n",
            "|    DISTRICT|DISTRICT NAME|            ADDRESS|   CITY|STATE|  ZIP|             WEBSITE|       PHONE|         FAX|         TTY|X COORDINATE|Y COORDINATE|   LATITUDE|   LONGITUDE|            LOCATION|Format_district|\n",
            "+------------+-------------+-------------------+-------+-----+-----+--------------------+------------+------------+------------+------------+------------+-----------+------------+--------------------+---------------+\n",
            "|Headquarters| Headquarters|3510 S Michigan Ave|Chicago|   IL|60653|http://home.chica...|        null|        null|        null| 1177731.401| 1881697.404|41.83070169|-87.62339535|(41.8307016873, -...|            Hea|\n",
            "|          18|   Near North| 1160 N Larrabee St|Chicago|   IL|60610|http://home.chica...|312-742-5870|312-742-5771|312-742-5773| 1172080.029| 1908086.527|41.90324165|-87.64335214|(41.9032416531, -...|            018|\n",
            "|          19|    Town Hall|   850 W Addison St|Chicago|   IL|60613|http://home.chica...|312-744-8320|312-744-4481|312-744-8011| 1169730.744| 1924160.317|41.94740046|-87.65151202|(41.9474004564, -...|            019|\n",
            "|          20|      Lincoln| 5400 N Lincoln Ave|Chicago|   IL|60625|http://home.chica...|312-742-8714|312-742-8803|312-742-8841| 1158399.146| 1935788.826|41.97954951|-87.69284451|(41.9795495131, -...|            020|\n",
            "|          22|  Morgan Park|1900 W Monterey Ave|Chicago|   IL|60643|http://home.chica...|312-745-0710|312-745-0814|312-745-0569| 1165825.476| 1830851.333|41.69143478|-87.66852039|(41.6914347795, -...|            022|\n",
            "+------------+-------------+-------------------+-------+-----+-----+--------------------+------------+------------+------------+------------+------------+-----------+------------+--------------------+---------------+\n",
            "only showing top 5 rows\n",
            "\n"
          ]
        }
      ],
      "source": [
        "ps = ps.withColumn('Format_district',lpad(col('DISTRICT'),3,'0'))\n",
        "ps.show(5)"
      ]
    },
    {
      "cell_type": "code",
      "execution_count": null,
      "metadata": {
        "colab": {
          "base_uri": "https://localhost:8080/"
        },
        "id": "8CR9XUeCc6Tn",
        "outputId": "1a0f77ff-a208-486e-80f6-0120b6c2f606"
      },
      "outputs": [
        {
          "name": "stdout",
          "output_type": "stream",
          "text": [
            "+--------+-----------+-------------------+------------------+--------------------+--------------------+--------------------+------+--------+----+--------+----+--------------+--------+----+--------------------+--------+-------------+---------------+\n",
            "|      ID|Case Number|               Date|             Block|        Primary Type|         Description|Location Description|Arrest|Domestic|Beat|District|Ward|Community Area|FBI Code|Year|          Updated On|DISTRICT|DISTRICT NAME|Format_district|\n",
            "+--------+-----------+-------------------+------------------+--------------------+--------------------+--------------------+------+--------+----+--------+----+--------------+--------+----+--------------------+--------+-------------+---------------+\n",
            "| 5741943|   HN549294|2007-08-25 09:22:18|074XX N ROGERS AVE|             ASSAULT|              SIMPLE|               OTHER| false|   false|2422|     024|  49|             1|     08A|2007|08/17/2015 03:03:...|      24|  Rogers Park|            024|\n",
            "| 1930689|   HH109118|2002-01-05 21:24:00|    007XX E 103 ST|               THEFT|      $500 AND UNDER|         GAS STATION|  true|   false|0512|     005|null|          null|      06|2002|02/04/2016 06:33:...|       5|      Calumet|            005|\n",
            "|12416974|   JE293464|2011-08-10 00:01:00|   031XX W 53RD PL|OFFENSE INVOLVING...|SEXUAL ASSAULT OF...|           RESIDENCE| false|    true|0923|     009|  14|            63|      02|2011|09/14/2023 03:41:...|       9|      Deering|            009|\n",
            "|12536164|   JE439378|2015-09-24 00:00:00|   031XX W 53RD PL|OFFENSE INVOLVING...|SEXUAL ASSAULT OF...|           APARTMENT| false|    true|0923|     009|  14|            63|      02|2015|09/14/2023 03:41:...|       9|      Deering|            009|\n",
            "|12536166|   JE439332|2014-09-07 00:00:00|   031XX W 53RD PL|OFFENSE INVOLVING...|SEXUAL ASSAULT OF...|           APARTMENT| false|    true|0923|     009|  14|            63|      02|2014|09/14/2023 03:41:...|       9|      Deering|            009|\n",
            "+--------+-----------+-------------------+------------------+--------------------+--------------------+--------------------+------+--------+----+--------+----+--------------+--------+----+--------------------+--------+-------------+---------------+\n",
            "only showing top 5 rows\n",
            "\n"
          ]
        }
      ],
      "source": [
        "rc.join(ps,rc.District == ps.Format_district,'left_outer').drop('ADDRESS','CITY','STATE','ZIP','WEBSITE','PHONE','FAX','TTY','X COORDINATE','Y COORDINATE','LATITUDE','LONGITUDE','LOCATION').show(5)"
      ]
    },
    {
      "cell_type": "markdown",
      "metadata": {
        "id": "-aQQ2gBF3Azz"
      },
      "source": [
        "## (04-05) Challenge questions"
      ]
    },
    {
      "cell_type": "markdown",
      "metadata": {
        "id": "AopcTx5q3Az0"
      },
      "source": [
        "**What is the most frequently reported non-criminal activity?**"
      ]
    },
    {
      "cell_type": "code",
      "execution_count": 39,
      "metadata": {
        "colab": {
          "base_uri": "https://localhost:8080/"
        },
        "id": "PEw5vyF63Az0",
        "outputId": "212e962a-a49a-4d4f-b89a-157201d30806"
      },
      "outputs": [
        {
          "output_type": "execute_result",
          "data": {
            "text/plain": [
              "8324839"
            ]
          },
          "metadata": {},
          "execution_count": 39
        }
      ],
      "source": [
        "rc.cache()\n",
        "rc.count()"
      ]
    },
    {
      "cell_type": "code",
      "execution_count": 40,
      "metadata": {
        "colab": {
          "base_uri": "https://localhost:8080/"
        },
        "id": "p1k8sxcY3Az0",
        "outputId": "b48f0afe-1e3f-4ff5-b775-537002578041"
      },
      "outputs": [
        {
          "output_type": "stream",
          "name": "stdout",
          "text": [
            "+--------+-----------+----+--------------------+--------------------+--------------------+--------------------+------+--------+----+--------+----+--------------+--------+------------+------------+----+--------------------+------------+-------------+--------------------+\n",
            "|      ID|Case Number|Date|               Block|        Primary Type|         Description|Location Description|Arrest|Domestic|Beat|District|Ward|Community Area|FBI Code|X Coordinate|Y Coordinate|Year|          Updated On|    Latitude|    Longitude|            Location|\n",
            "+--------+-----------+----+--------------------+--------------------+--------------------+--------------------+------+--------+----+--------+----+--------------+--------+------------+------------+----+--------------------+------------+-------------+--------------------+\n",
            "|      ID|Case Number|null|               Block|        Primary Type|         Description|Location Description|Arrest|    null|Beat|    null|Ward|Community Area|FBI Code|X Coordinate|Y Coordinate|null|          Updated On|        null|         null|            Location|\n",
            "|13311263|   JG503434|null|     023XX S TROY ST|OFFENSE INVOLVING...|   CHILD PORNOGRAPHY|           RESIDENCE|  true|   false|1033|    null|  25|            30|      17|        null|        null|2022|04/18/2024 03:40:...|        null|         null|                null|\n",
            "|13053066|   JG103252|null|039XX W WASHINGTO...|           NARCOTICS|MANUFACTURE / DEL...|            SIDEWALK|  true|   false|1122|    null|  28|            26|      18|        null|        null|2023|01/20/2024 03:41:...|        null|         null|                null|\n",
            "|11227634|   JB147599|null| 001XX W RANDOLPH ST| CRIM SEXUAL ASSAULT|      NON-AGGRAVATED|         HOTEL/MOTEL| false|   false|0122|    null|  42|            32|      02|        null|        null|2017|02/11/2018 03:57:...|        null|         null|                null|\n",
            "|13203321|   JG415333|null|    002XX N Wells st|     CRIMINAL DAMAGE|          TO VEHICLE|PARKING LOT / GAR...| false|   false|0122|    null|  42|            32|      14|     1174694|     1901831|2023|11/04/2023 03:40:...|41.886018055|-87.633937881|(41.886018055, -8...|\n",
            "+--------+-----------+----+--------------------+--------------------+--------------------+--------------------+------+--------+----+--------+----+--------------+--------+------------+------------+----+--------------------+------------+-------------+--------------------+\n",
            "only showing top 5 rows\n",
            "\n"
          ]
        }
      ],
      "source": [
        "rc.show(5)"
      ]
    },
    {
      "cell_type": "code",
      "execution_count": 41,
      "metadata": {
        "colab": {
          "base_uri": "https://localhost:8080/"
        },
        "id": "cODrDxdb3Az0",
        "outputId": "61caee3d-2eea-46d8-a4f7-1247dded5c14"
      },
      "outputs": [
        {
          "output_type": "execute_result",
          "data": {
            "text/plain": [
              "37"
            ]
          },
          "metadata": {},
          "execution_count": 41
        }
      ],
      "source": [
        "rc.select('Primary Type').distinct().count()"
      ]
    },
    {
      "cell_type": "code",
      "execution_count": 42,
      "metadata": {
        "id": "Vf5DPbQ43Az0",
        "colab": {
          "base_uri": "https://localhost:8080/"
        },
        "outputId": "7329eb04-15cf-44eb-b310-1e7395bf00de"
      },
      "outputs": [
        {
          "output_type": "stream",
          "name": "stdout",
          "text": [
            "+---------------------------------+\n",
            "|Primary Type                     |\n",
            "+---------------------------------+\n",
            "|ARSON                            |\n",
            "|ASSAULT                          |\n",
            "|BATTERY                          |\n",
            "|BURGLARY                         |\n",
            "|CONCEALED CARRY LICENSE VIOLATION|\n",
            "|CRIM SEXUAL ASSAULT              |\n",
            "|CRIMINAL DAMAGE                  |\n",
            "|CRIMINAL SEXUAL ASSAULT          |\n",
            "|CRIMINAL TRESPASS                |\n",
            "|DECEPTIVE PRACTICE               |\n",
            "|DOMESTIC VIOLENCE                |\n",
            "|GAMBLING                         |\n",
            "|HOMICIDE                         |\n",
            "|HUMAN TRAFFICKING                |\n",
            "|INTERFERENCE WITH PUBLIC OFFICER |\n",
            "|INTIMIDATION                     |\n",
            "|KIDNAPPING                       |\n",
            "|LIQUOR LAW VIOLATION             |\n",
            "|MOTOR VEHICLE THEFT              |\n",
            "|NARCOTICS                        |\n",
            "|NON - CRIMINAL                   |\n",
            "|NON-CRIMINAL                     |\n",
            "|NON-CRIMINAL (SUBJECT SPECIFIED) |\n",
            "|OBSCENITY                        |\n",
            "|OFFENSE INVOLVING CHILDREN       |\n",
            "|OTHER NARCOTIC VIOLATION         |\n",
            "|OTHER OFFENSE                    |\n",
            "|PROSTITUTION                     |\n",
            "|PUBLIC INDECENCY                 |\n",
            "|PUBLIC PEACE VIOLATION           |\n",
            "|Primary Type                     |\n",
            "|RITUALISM                        |\n",
            "+---------------------------------+\n",
            "only showing top 32 rows\n",
            "\n"
          ]
        }
      ],
      "source": [
        "rc.select('Primary Type').distinct().orderBy(col('Primary Type')).show(32,truncate=False)"
      ]
    },
    {
      "cell_type": "code",
      "execution_count": 43,
      "metadata": {
        "id": "AHOdjsiBKI0W",
        "colab": {
          "base_uri": "https://localhost:8080/"
        },
        "outputId": "340de826-c692-4111-e20d-b482ae9d02e5"
      },
      "outputs": [
        {
          "output_type": "stream",
          "name": "stdout",
          "text": [
            "+--------+-----------+----+--------------------+--------------------+--------------------+--------------------+------+--------+----+--------+----+--------------+--------+------------+------------+----+--------------------+------------+-------------+--------------------+\n",
            "|      ID|Case Number|Date|               Block|        Primary Type|         Description|Location Description|Arrest|Domestic|Beat|District|Ward|Community Area|FBI Code|X Coordinate|Y Coordinate|Year|          Updated On|    Latitude|    Longitude|            Location|\n",
            "+--------+-----------+----+--------------------+--------------------+--------------------+--------------------+------+--------+----+--------+----+--------------+--------+------------+------------+----+--------------------+------------+-------------+--------------------+\n",
            "|13280353|   JG507932|null|014XX S BLUE ISLA...|        NON-CRIMINAL|CONCEALED CARRY L...|POLICE FACILITY /...| false|   false|1233|    null|  28|            28|      15|     1168519|     1893359|2023|11/25/2023 03:41:...|41.862906101|-87.656858884|(41.862906101, -8...|\n",
            "| 8773145|   HV447848|null|    100XX W OHARE ST|        NON-CRIMINAL|       LOST PASSPORT|AIRPORT TERMINAL ...|  true|   false|1651|    null|  41|            76|      26|     1100658|     1934241|2012|02/10/2018 03:50:...|41.976290414|-87.905227221|(41.976290414, -8...|\n",
            "| 8602092|   HV276324|null|    001XX W ADAMS ST|        NON-CRIMINAL|       LOST PASSPORT|             TAXICAB| false|   false|0122|    null|  42|            32|      26|     1175062|     1899421|2012|02/04/2016 06:33:...|41.879396635|-87.632658775|(41.879396635, -8...|\n",
            "| 8701089|   HV377321|null|   009XX W ROSCOE ST|        NON-CRIMINAL|       LOST PASSPORT|            SIDEWALK| false|   false|1924|    null|  44|             6|      26|     1169358|     1922759|2012|02/04/2016 06:33:...|41.943563314|-87.652923006|(41.943563314, -8...|\n",
            "| 8613948|   HV287619|null|004XX N MICHIGAN AVE|        NON-CRIMINAL|       LOST PASSPORT|              STREET| false|   false|1834|    null|  42|             8|      26|     1177329|     1903108|2012|02/04/2016 06:33:...| 41.88946287|-87.624222942|(41.88946287, -87...|\n",
            "| 8714358|   HV390850|null|008XX N MICHIGAN AVE|        NON-CRIMINAL|       LOST PASSPORT|COMMERCIAL / BUSI...| false|   false|1833|    null|  42|             8|      26|     1177338|     1906181|2012|02/10/2018 03:50:...|41.897895128|-87.624096605|(41.897895128, -8...|\n",
            "| 8720297|   HV397127|null|  0000X W HUBBARD ST|        NON-CRIMINAL|       LOST PASSPORT|              STREET| false|   false|1831|    null|  42|             8|      26|     1176050|     1903312|2012|02/04/2016 06:33:...|41.890051565| -87.62891376|(41.890051565, -8...|\n",
            "| 8920098|   HV592222|null|     020XX W 51ST ST|NON-CRIMINAL (SUB...|NOTIFICATION OF C...|           APARTMENT| false|    true|0931|    null|  16|            61|      26|     1163437|     1870837|2012|02/10/2018 03:50:...|41.801211675|-87.676146832|(41.801211675, -8...|\n",
            "| 8819689|   HV492871|null| 059XX N ROCKWELL ST|NON-CRIMINAL (SUB...|NOTIFICATION OF C...|            SIDEWALK|  true|   false|2011|    null|  40|             2|      26|     1157923|     1939345|2012|02/10/2018 03:50:...| 41.98931757|-87.694498035|(41.98931757, -87...|\n",
            "| 9062806|   HW207631|null|067XX S JEFFERY BLVD|        NON-CRIMINAL|      FOUND PASSPORT|             CTA BUS| false|   false|0332|    null|   5|            43|      26|     1190703|     1860780|2013|02/10/2018 03:50:...|41.772998982|-87.576478539|(41.772998982, -8...|\n",
            "| 9148621|   HW294531|null|034XX N LAKE SHOR...|        NON-CRIMINAL|       LOST PASSPORT|           APARTMENT|  true|   false|1925|    null|  44|             6|      26|     1172449|     1923411|2013|02/10/2018 03:50:...|41.945284535|-87.641542722|(41.945284535, -8...|\n",
            "| 9436491|   HW580783|null|  057XX S CICERO AVE|        NON-CRIMINAL|       LOST PASSPORT|            AIRCRAFT| false|   false|0813|    null|  23|            56|      26|     1145654|     1866253|2013|02/10/2018 03:50:...|41.788987036| -87.74147999|(41.788987036, -8...|\n",
            "| 9284607|   HW428723|null|    007XX E 111TH ST|      NON - CRIMINAL|   FOID - REVOCATION|POLICE FACILITY/V...| false|   false|0531|    null|   9|            50|      26|     1183356|     1831503|2013|02/10/2018 03:50:...|41.692833841| -87.60431945|(41.692833841, -8...|\n",
            "| 9406560|   HW549849|null|    022XX E 103RD ST|      NON - CRIMINAL|   FOID - REVOCATION|POLICE FACILITY/V...| false|   false|0434|    null|  10|            51|      26|     1192874|     1837123|2013|02/10/2018 03:50:...|41.708029389|-87.569290282|(41.708029389, -8...|\n",
            "| 9402173|   HW545106|null|  002XX W ONTARIO ST|        NON-CRIMINAL|       LOST PASSPORT|       BAR OR TAVERN| false|   false|1831|    null|  42|             8|      26|     1174469|     1904439|2013|02/10/2018 03:50:...|41.893179585|-87.634686145|(41.893179585, -8...|\n",
            "| 9366682|   HW510040|null|     019XX W OHIO ST|      NON - CRIMINAL|   FOID - REVOCATION|           RESIDENCE| false|   false|1221|    null|   1|            24|      26|     1163389|     1904029|2013|02/10/2018 03:50:...|41.892294874|-87.675390277|(41.892294874, -8...|\n",
            "| 9640214|   HX290853|null|026XX S CALIFORNI...|      NON - CRIMINAL|   FOID - REVOCATION|GOVERNMENT BUILDI...| false|   false|1033|    null|  12|            30|      26|     1158136|     1886128|2014|02/10/2018 03:50:...|41.843281635|-87.695171094|(41.843281635, -8...|\n",
            "| 9684549|   HX334987|null|062XX W EASTWOOD AVE|      NON - CRIMINAL|   FOID - REVOCATION|              STREET| false|   false|1622|    null|  38|            15|      26|     1133693|     1930201|2014|02/10/2018 03:50:...|41.964686958|-87.783836648|(41.964686958, -8...|\n",
            "| 9507785|   HX163428|null|   029XX S LOOMIS ST|NON-CRIMINAL (SUB...|NOTIFICATION OF C...|           APARTMENT| false|    true|0913|    null|  11|            60|      26|     1168619|     1885264|2014|02/04/2016 06:33:...|41.840690549|-87.656725939|(41.840690549, -8...|\n",
            "| 9683937|   HX334584|null|    037XX N CLARK ST|        NON-CRIMINAL|       LOST PASSPORT|            SIDEWALK| false|   false|1923|    null|  44|             6|      26|     1167839|     1924947|2014|02/10/2018 03:50:...|41.949600232|-87.658442769|(41.949600232, -8...|\n",
            "| 9678411|   HX328247|null|065XX S CALIFORNI...|      NON - CRIMINAL|   FOID - REVOCATION|           RESIDENCE| false|   false|0831|    null|  15|            66|      26|     1158836|     1861188|2014|02/10/2018 03:50:...|41.774828777|-87.693283868|(41.774828777, -8...|\n",
            "| 9567443|   HX218064|null|  026XX S LEAVITT ST|      NON - CRIMINAL|   FOID - REVOCATION|PARKING LOT/GARAG...| false|   false|1034|    null|  25|            31|      26|     1162123|     1886474|2014|02/04/2016 06:33:...|41.844148868|-87.680530044|(41.844148868, -8...|\n",
            "| 9665407|   HX315271|null|    001XX W 109TH ST|      NON - CRIMINAL|   FOID - REVOCATION|           RESIDENCE| false|   false|0513|    null|  34|            49|      26|     1177310|     1832676|2014|02/10/2018 03:50:...|41.696191009|-87.626419598|(41.696191009, -8...|\n",
            "| 9773618|   HX422844|null|  033XX N HALSTED ST|        NON-CRIMINAL|       LOST PASSPORT|       BAR OR TAVERN| false|   false|1925|    null|  44|             6|      26|     1170327|     1922621|2014|02/10/2018 03:50:...|41.943163475|-87.649365498|(41.943163475, -8...|\n",
            "| 9774371|   HX424417|null|    007XX E 111TH ST|      NON - CRIMINAL|   FOID - REVOCATION|POLICE FACILITY/V...| false|   false|0531|    null|   9|            50|      26|     1183356|     1831503|2014|02/10/2018 03:50:...|41.692833841| -87.60431945|(41.692833841, -8...|\n",
            "| 9704195|   HX354566|null|0000X E JACKSON BLVD|        NON-CRIMINAL|       LOST PASSPORT|               OTHER| false|   false|0113|    null|   2|            32|      26|     1177115|     1899026|2014|02/10/2018 03:50:...|41.878266492|-87.625132541|(41.878266492, -8...|\n",
            "| 9748350|   HX395126|null|043XX S FRANCISCO...|      NON - CRIMINAL|   FOID - REVOCATION|RESIDENCE PORCH/H...| false|   false|0922|    null|  14|            58|      26|     1157754|     1875710|2014|02/10/2018 03:50:...|41.814701167|-87.696856202|(41.814701167, -8...|\n",
            "| 9829514|   HX478923|null| 071XX W HIGGINS AVE|        NON-CRIMINAL|NOTIFICATION OF S...|            SIDEWALK| false|   false|1613|    null|  41|            10|      26|     1127831|     1936015|2014|02/10/2018 03:50:...| 41.98074232|-87.805258346|(41.98074232, -87...|\n",
            "| 9784484|   HX433460|null|     034XX W 63RD ST|      NON - CRIMINAL|   FOID - REVOCATION|POLICE FACILITY/V...| false|   false|0823|    null|  15|            66|      26|     1154582|     1862632|2014|02/10/2018 03:50:...|41.778877155|-87.708840106|(41.778877155, -8...|\n",
            "| 9844106|   HX493523|null|056XX W DIVERSEY AVE|        NON-CRIMINAL|       LOST PASSPORT|               OTHER| false|   false|2514|    null|  31|            19|      26|     1138373|     1918052|2014|02/10/2018 03:50:...|41.931265251|-87.766924444|(41.931265251, -8...|\n",
            "| 9883926|   HX535155|null|    046XX N BROADWAY|        NON-CRIMINAL|       LOST PASSPORT|        CTA PLATFORM| false|   false|1913|    null|  46|             3|      26|     1167942|     1930944|2014|02/10/2018 03:50:...|41.966053999|-87.657890403|(41.966053999, -8...|\n",
            "| 9747851|   HX397681|null| 048XX N SHERIDAN RD|        NON-CRIMINAL|       LOST PASSPORT|           RESIDENCE| false|   false|2024|    null|  46|             3|      26|     1168762|     1932302|2010|02/09/2018 03:44:...|41.969762615|-87.654835892|(41.969762615, -8...|\n",
            "| 9871713|   HX522210|null|    032XX N CLARK ST|        NON-CRIMINAL|       LOST PASSPORT|              STREET| false|   false|1924|    null|  44|             6|      26|     1169876|     1921615|2014|02/10/2018 03:50:...|41.940412833|-87.651052567|(41.940412833, -8...|\n",
            "| 9836305|   HX485896|null|049XX N MILWAUKEE...|        NON-CRIMINAL|       LOST PASSPORT|           CTA TRAIN| false|   false|1623|    null|  45|            11|      26|     1139431|     1932207|2014|02/10/2018 03:50:...| 41.97008868|-87.762690091|(41.97008868, -87...|\n",
            "| 9783893|   HX433109|null|021XX W LAWRENCE AVE|        NON-CRIMINAL|       LOST PASSPORT|    FEDERAL BUILDING| false|   false|1911|    null|  47|             4|      26|     1161326|     1931861|2014|02/10/2018 03:50:...|41.968710831|-87.682190533|(41.968710831, -8...|\n",
            "| 9729949|   HX379092|null|   006XX E GRAND AVE|        NON-CRIMINAL|       LOST PASSPORT|       PARK PROPERTY| false|   false|1834|    null|  42|             8|      26|     1180796|     1904058|2014|02/10/2018 03:50:...|41.891990384|-87.611461502|(41.891990384, -8...|\n",
            "| 9711193|   HX359492|null|  030XX S KARLOV AVE|        NON-CRIMINAL|NOTIFICATION OF S...|               ALLEY| false|   false|1031|    null|  22|            30|      26|     1149530|     1884059|2014|02/10/2018 03:50:...|41.837775163|-87.726807011|(41.837775163, -8...|\n",
            "| 9757812|   HX404416|null|     034XX W 61ST ST|      NON - CRIMINAL|   FOID - REVOCATION|           RESIDENCE| false|   false|0823|    null|  16|            66|      26|     1154542|     1863960|2014|02/10/2018 03:50:...|41.782522183|  -87.7089514|(41.782522183, -8...|\n",
            "| 9711697|   HX361765|null|   079XX S HOYNE AVE|        NON-CRIMINAL|GUN OFFENDER NOTI...|            SIDEWALK| false|   false|0611|    null|  18|            71|      26|     1163739|     1852109|2014|02/10/2018 03:50:...| 41.74981318|-87.675564613|(41.74981318, -87...|\n",
            "| 9709860|   HX358150|null|072XX S CAMPBELL AVE|      NON - CRIMINAL|   FOID - REVOCATION|           RESIDENCE| false|   false|0832|    null|  18|            66|      26|     1160964|     1856484|2014|02/10/2018 03:50:...|  41.7618766| -87.68561275|(41.7618766, -87....|\n",
            "| 9750518|   HX400793|null|006XX N MICHIGAN AVE|        NON-CRIMINAL|       LOST PASSPORT|            SIDEWALK| false|   false|1834|    null|  42|             8|      26|     1177308|     1904958|2014|02/10/2018 03:50:...|41.894539838|-87.624243916|(41.894539838, -8...|\n",
            "| 9802908|   HX452052|null|   017XX W ESTES AVE|        NON-CRIMINAL|       LOST PASSPORT|           RESIDENCE| false|   false|2423|    null|  49|             1|      26|     1163688|     1947450|2014|02/10/2018 03:50:...|42.011437936|-87.673063626|(42.011437936, -8...|\n",
            "| 9888264|   HX538505|null|   0000X W MONROE ST|        NON-CRIMINAL|       LOST PASSPORT|              STREET| false|   false|0112|    null|  42|            32|      26|     1176195|     1899919|2014|02/10/2018 03:50:...|41.880737718|-87.628483607|(41.880737718, -8...|\n",
            "| 9963295|   HY152596|null|  024XX S ALBANY AVE|        NON-CRIMINAL|      FOUND PASSPORT|           APARTMENT| false|   false|1033|    null|  12|            30|      26|     1156079|     1887676|2015|02/10/2018 03:50:...| 41.84757122|-87.702678131|(41.84757122, -87...|\n",
            "| 9917219|   HY106394|null|051XX N MILWAUKEE...|      NON - CRIMINAL|   FOID - REVOCATION|POLICE FACILITY/V...| false|   false|1623|    null|  45|            11|      26|     1138424|     1933673|2015|02/10/2018 03:50:...|41.974129858|-87.766357256|(41.974129858, -8...|\n",
            "|10128364|   HY316525|null|035XX S MICHIGAN AVE|      NON - CRIMINAL|   FOID - REVOCATION|POLICE FACILITY/V...| false|   false|0213|    null|   3|            35|      26|     1177772|     1881665|2015|02/10/2018 03:50:...|41.830611847|-87.623247369|(41.830611847, -8...|\n",
            "|10132522|   HY321435|null|     044XX W 76TH ST|        NON-CRIMINAL|CONCEALED CARRY L...|              STREET|  true|   false|0833|    null|  13|            65|      15|     1148140|     1853871|2015|08/17/2015 03:03:...|41.754961443|-87.732681619|(41.754961443, -8...|\n",
            "|10064717|   HY253344|null|051XX S WENTWORTH...|      NON - CRIMINAL|   FOID - REVOCATION|POLICE FACILITY/V...| false|   false|0225|    null|   3|            37|      26|     1175826|     1871120|2015|02/10/2018 03:50:...| 41.80171934|-87.630703621|(41.80171934, -87...|\n",
            "|10115077|   HY304017|null|  081XX S WHIPPLE ST|      NON - CRIMINAL|   FOID - REVOCATION|           RESIDENCE| false|   false|0835|    null|  18|            70|      26|     1157460|     1850515|2015|02/10/2018 03:50:...|41.745568408|-87.698616805|(41.745568408, -8...|\n",
            "|10125981|   HY314305|null|021XX N CALIFORNI...|      NON - CRIMINAL|   FOID - REVOCATION|POLICE FACILITY/V...| false|   false|1414|    null|  35|            22|      26|     1157345|     1914452|2015|02/10/2018 03:50:...|41.921021491| -87.69730355|(41.921021491, -8...|\n",
            "+--------+-----------+----+--------------------+--------------------+--------------------+--------------------+------+--------+----+--------+----+--------------+--------+------------+------------+----+--------------------+------------+-------------+--------------------+\n",
            "only showing top 50 rows\n",
            "\n"
          ]
        }
      ],
      "source": [
        "nc = rc.filter((col('Primary Type') == 'NON - CRIMINAL') | (col('Primary Type') == 'NON-CRIMINAL') | (col('Primary Type') == 'NON-CRIMINAL (SUBJECT SPECIFIED)'))\n",
        "nc.show(50)"
      ]
    },
    {
      "cell_type": "code",
      "execution_count": 44,
      "metadata": {
        "id": "e5J1WQkBKIuN",
        "colab": {
          "base_uri": "https://localhost:8080/"
        },
        "outputId": "1d29ce33-0f6d-4f40-c046-cdf242944659"
      },
      "outputs": [
        {
          "output_type": "stream",
          "name": "stdout",
          "text": [
            "+-------------------------------------------+-----+\n",
            "|Description                                |count|\n",
            "+-------------------------------------------+-----+\n",
            "|LOST PASSPORT                              |111  |\n",
            "|FOID - REVOCATION                          |76   |\n",
            "|CONCEALED CARRY LICENSE REVOCATION         |26   |\n",
            "|NOTIFICATION OF CIVIL NO CONTACT ORDER     |9    |\n",
            "|NOTIFICATION OF STALKING - NO CONTACT ORDER|8    |\n",
            "|FOUND PASSPORT                             |4    |\n",
            "|GUN OFFENDER NOTIFICATION-NO CONTACT       |3    |\n",
            "+-------------------------------------------+-----+\n",
            "\n"
          ]
        }
      ],
      "source": [
        "nc.groupBy(col('Description')).count().orderBy('count',ascending=False).show(truncate=False)"
      ]
    },
    {
      "cell_type": "markdown",
      "metadata": {
        "id": "ff7cLpWh3Az0"
      },
      "source": [
        "**Using a bar chart, plot which day of the week has the most number of reported crime.**"
      ]
    },
    {
      "cell_type": "code",
      "execution_count": 45,
      "metadata": {
        "id": "mo8JV7083Az0"
      },
      "outputs": [],
      "source": [
        "from pyspark.sql.functions import dayofweek"
      ]
    },
    {
      "cell_type": "code",
      "execution_count": 46,
      "metadata": {
        "colab": {
          "base_uri": "https://localhost:8080/"
        },
        "id": "w0UWY8A13Az0",
        "outputId": "c0753f1b-87c2-47be-adad-217d754ae579"
      },
      "outputs": [
        {
          "output_type": "stream",
          "name": "stdout",
          "text": [
            "Help on function dayofweek in module pyspark.sql.functions:\n",
            "\n",
            "dayofweek(col: 'ColumnOrName') -> pyspark.sql.column.Column\n",
            "    Extract the day of the week of a given date/timestamp as integer.\n",
            "    Ranges from 1 for a Sunday through to 7 for a Saturday\n",
            "    \n",
            "    .. versionadded:: 2.3.0\n",
            "    \n",
            "    .. versionchanged:: 3.4.0\n",
            "        Supports Spark Connect.\n",
            "    \n",
            "    Parameters\n",
            "    ----------\n",
            "    col : :class:`~pyspark.sql.Column` or str\n",
            "        target date/timestamp column to work on.\n",
            "    \n",
            "    Returns\n",
            "    -------\n",
            "    :class:`~pyspark.sql.Column`\n",
            "        day of the week for given date/timestamp as integer.\n",
            "    \n",
            "    Examples\n",
            "    --------\n",
            "    >>> df = spark.createDataFrame([('2015-04-08',)], ['dt'])\n",
            "    >>> df.select(dayofweek('dt').alias('day')).collect()\n",
            "    [Row(day=4)]\n",
            "\n"
          ]
        }
      ],
      "source": [
        "help(dayofweek)"
      ]
    },
    {
      "cell_type": "code",
      "execution_count": 47,
      "metadata": {
        "id": "3OMXnCYr3Az0",
        "colab": {
          "base_uri": "https://localhost:8080/"
        },
        "outputId": "a07ffce4-4c5d-4489-9050-3ab82dc25265"
      },
      "outputs": [
        {
          "output_type": "stream",
          "name": "stdout",
          "text": [
            "+--------+-----------+----+--------------------+--------------------+--------------------+--------------------+------+--------+----+--------+----+--------------+--------+------------+------------+----+--------------------+------------+-------------+--------------------+\n",
            "|      ID|Case Number|Date|               Block|        Primary Type|         Description|Location Description|Arrest|Domestic|Beat|District|Ward|Community Area|FBI Code|X Coordinate|Y Coordinate|Year|          Updated On|    Latitude|    Longitude|            Location|\n",
            "+--------+-----------+----+--------------------+--------------------+--------------------+--------------------+------+--------+----+--------+----+--------------+--------+------------+------------+----+--------------------+------------+-------------+--------------------+\n",
            "|      ID|Case Number|null|               Block|        Primary Type|         Description|Location Description|Arrest|    null|Beat|    null|Ward|Community Area|FBI Code|X Coordinate|Y Coordinate|null|          Updated On|        null|         null|            Location|\n",
            "|13311263|   JG503434|null|     023XX S TROY ST|OFFENSE INVOLVING...|   CHILD PORNOGRAPHY|           RESIDENCE|  true|   false|1033|    null|  25|            30|      17|        null|        null|2022|04/18/2024 03:40:...|        null|         null|                null|\n",
            "|13053066|   JG103252|null|039XX W WASHINGTO...|           NARCOTICS|MANUFACTURE / DEL...|            SIDEWALK|  true|   false|1122|    null|  28|            26|      18|        null|        null|2023|01/20/2024 03:41:...|        null|         null|                null|\n",
            "|11227634|   JB147599|null| 001XX W RANDOLPH ST| CRIM SEXUAL ASSAULT|      NON-AGGRAVATED|         HOTEL/MOTEL| false|   false|0122|    null|  42|            32|      02|        null|        null|2017|02/11/2018 03:57:...|        null|         null|                null|\n",
            "|13203321|   JG415333|null|    002XX N Wells st|     CRIMINAL DAMAGE|          TO VEHICLE|PARKING LOT / GAR...| false|   false|0122|    null|  42|            32|      14|     1174694|     1901831|2023|11/04/2023 03:40:...|41.886018055|-87.633937881|(41.886018055, -8...|\n",
            "+--------+-----------+----+--------------------+--------------------+--------------------+--------------------+------+--------+----+--------+----+--------------+--------+------------+------------+----+--------------------+------------+-------------+--------------------+\n",
            "only showing top 5 rows\n",
            "\n"
          ]
        }
      ],
      "source": [
        "rc.show(5)"
      ]
    },
    {
      "cell_type": "code",
      "execution_count": 48,
      "metadata": {
        "id": "kEbySVAC3Az0",
        "colab": {
          "base_uri": "https://localhost:8080/"
        },
        "outputId": "4bf2a4f1-b430-4e1a-cee8-95e861463349"
      },
      "outputs": [
        {
          "output_type": "stream",
          "name": "stdout",
          "text": [
            "+----+---------------+\n",
            "|Date|dayofweek(Date)|\n",
            "+----+---------------+\n",
            "|null|           null|\n",
            "|null|           null|\n",
            "|null|           null|\n",
            "|null|           null|\n",
            "|null|           null|\n",
            "+----+---------------+\n",
            "only showing top 5 rows\n",
            "\n"
          ]
        }
      ],
      "source": [
        "rc.select(col('Date'),dayofweek(col('Date'))).show(5)"
      ]
    },
    {
      "cell_type": "code",
      "execution_count": 49,
      "metadata": {
        "id": "bSxKI4ePKJ5j"
      },
      "outputs": [],
      "source": [
        "from pyspark.sql.functions import date_format"
      ]
    },
    {
      "cell_type": "code",
      "execution_count": 50,
      "metadata": {
        "id": "j_iQqpL1KJ2d",
        "colab": {
          "base_uri": "https://localhost:8080/"
        },
        "outputId": "ed1a6c66-f1e6-4d37-cf56-e9302958fe99"
      },
      "outputs": [
        {
          "output_type": "stream",
          "name": "stdout",
          "text": [
            "Help on function date_format in module pyspark.sql.functions:\n",
            "\n",
            "date_format(date: 'ColumnOrName', format: str) -> pyspark.sql.column.Column\n",
            "    Converts a date/timestamp/string to a value of string in the format specified by the date\n",
            "    format given by the second argument.\n",
            "    \n",
            "    A pattern could be for instance `dd.MM.yyyy` and could return a string like '18.03.1993'. All\n",
            "    pattern letters of `datetime pattern`_. can be used.\n",
            "    \n",
            "    .. _datetime pattern: https://spark.apache.org/docs/latest/sql-ref-datetime-pattern.html\n",
            "    \n",
            "    .. versionadded:: 1.5.0\n",
            "    \n",
            "    .. versionchanged:: 3.4.0\n",
            "        Supports Spark Connect.\n",
            "    \n",
            "    Notes\n",
            "    -----\n",
            "    Whenever possible, use specialized functions like `year`.\n",
            "    \n",
            "    Parameters\n",
            "    ----------\n",
            "    date : :class:`~pyspark.sql.Column` or str\n",
            "        input column of values to format.\n",
            "    format: str\n",
            "        format to use to represent datetime values.\n",
            "    \n",
            "    Returns\n",
            "    -------\n",
            "    :class:`~pyspark.sql.Column`\n",
            "        string value representing formatted datetime.\n",
            "    \n",
            "    Examples\n",
            "    --------\n",
            "    >>> df = spark.createDataFrame([('2015-04-08',)], ['dt'])\n",
            "    >>> df.select(date_format('dt', 'MM/dd/yyy').alias('date')).collect()\n",
            "    [Row(date='04/08/2015')]\n",
            "\n"
          ]
        }
      ],
      "source": [
        "help(date_format)"
      ]
    },
    {
      "cell_type": "code",
      "execution_count": 51,
      "metadata": {
        "colab": {
          "base_uri": "https://localhost:8080/"
        },
        "id": "GbcSuGRpKJzq",
        "outputId": "1f5e2af5-c433-4350-9c34-4a8041b93b07"
      },
      "outputs": [
        {
          "output_type": "stream",
          "name": "stdout",
          "text": [
            "+----+---------------+--------------------+\n",
            "|Date|dayofweek(Date)|date_format(Date, E)|\n",
            "+----+---------------+--------------------+\n",
            "|null|           null|                null|\n",
            "|null|           null|                null|\n",
            "|null|           null|                null|\n",
            "|null|           null|                null|\n",
            "|null|           null|                null|\n",
            "+----+---------------+--------------------+\n",
            "only showing top 5 rows\n",
            "\n"
          ]
        }
      ],
      "source": [
        "rc.select(col('Date'),dayofweek(col('Date')),date_format(col('Date'),'E')).show(5)"
      ]
    },
    {
      "cell_type": "code",
      "execution_count": 52,
      "metadata": {
        "id": "h95xRmYbKJxE",
        "colab": {
          "base_uri": "https://localhost:8080/"
        },
        "outputId": "6d0d305b-69d4-491a-dbe4-01ba8058afd1"
      },
      "outputs": [
        {
          "output_type": "stream",
          "name": "stdout",
          "text": [
            "+--------------------+-------+\n",
            "|date_format(Date, E)|  count|\n",
            "+--------------------+-------+\n",
            "|                null|8324839|\n",
            "+--------------------+-------+\n",
            "\n"
          ]
        }
      ],
      "source": [
        "rc.groupBy(date_format(col('Date'),'E')).count().orderBy('count',ascending=False).show()"
      ]
    },
    {
      "cell_type": "code",
      "execution_count": 53,
      "metadata": {
        "id": "xRxHZgpG4d5p",
        "colab": {
          "base_uri": "https://localhost:8080/"
        },
        "outputId": "16fe7b3c-31ae-4ec8-bca3-4b94784d2d7b"
      },
      "outputs": [
        {
          "output_type": "execute_result",
          "data": {
            "text/plain": [
              "[Row(date_format(Date, E)=None, count=8324839)]"
            ]
          },
          "metadata": {},
          "execution_count": 53
        }
      ],
      "source": [
        "rc.groupBy(date_format(col('Date'),'E')).count().collect()"
      ]
    },
    {
      "cell_type": "code",
      "execution_count": 54,
      "metadata": {
        "id": "zlnrVBBkpGmb",
        "colab": {
          "base_uri": "https://localhost:8080/"
        },
        "outputId": "c70f608c-e7c8-4b59-afd2-a9402694d30f"
      },
      "outputs": [
        {
          "output_type": "execute_result",
          "data": {
            "text/plain": [
              "[None]"
            ]
          },
          "metadata": {},
          "execution_count": 54
        }
      ],
      "source": [
        "dow = [x[0] for x in rc.groupBy(date_format(col('Date'),'E')).count().collect()]\n",
        "dow"
      ]
    },
    {
      "cell_type": "code",
      "execution_count": 55,
      "metadata": {
        "id": "sX0276lhpY1l",
        "colab": {
          "base_uri": "https://localhost:8080/"
        },
        "outputId": "61504669-bacd-43a1-c9e2-d6e700094baa"
      },
      "outputs": [
        {
          "output_type": "execute_result",
          "data": {
            "text/plain": [
              "[8324839]"
            ]
          },
          "metadata": {},
          "execution_count": 55
        }
      ],
      "source": [
        "cnt = [x[1] for x in rc.groupBy(date_format(col('Date'),'E')).count().collect()]\n",
        "cnt"
      ]
    },
    {
      "cell_type": "code",
      "execution_count": 56,
      "metadata": {
        "id": "J29YMqnIpiTO"
      },
      "outputs": [],
      "source": [
        "import pandas as pd\n",
        "import matplotlib.pyplot as plt"
      ]
    },
    {
      "cell_type": "code",
      "execution_count": 57,
      "metadata": {
        "id": "8uI6bQlfpnO0",
        "colab": {
          "base_uri": "https://localhost:8080/",
          "height": 81
        },
        "outputId": "70cea656-34f2-4673-8b79-936bf12618e3"
      },
      "outputs": [
        {
          "output_type": "execute_result",
          "data": {
            "text/plain": [
              "  Day_of_week    Count\n",
              "0        None  8324839"
            ],
            "text/html": [
              "\n",
              "  <div id=\"df-9509de5c-f66b-46bc-a832-6b349d40680c\" class=\"colab-df-container\">\n",
              "    <div>\n",
              "<style scoped>\n",
              "    .dataframe tbody tr th:only-of-type {\n",
              "        vertical-align: middle;\n",
              "    }\n",
              "\n",
              "    .dataframe tbody tr th {\n",
              "        vertical-align: top;\n",
              "    }\n",
              "\n",
              "    .dataframe thead th {\n",
              "        text-align: right;\n",
              "    }\n",
              "</style>\n",
              "<table border=\"1\" class=\"dataframe\">\n",
              "  <thead>\n",
              "    <tr style=\"text-align: right;\">\n",
              "      <th></th>\n",
              "      <th>Day_of_week</th>\n",
              "      <th>Count</th>\n",
              "    </tr>\n",
              "  </thead>\n",
              "  <tbody>\n",
              "    <tr>\n",
              "      <th>0</th>\n",
              "      <td>None</td>\n",
              "      <td>8324839</td>\n",
              "    </tr>\n",
              "  </tbody>\n",
              "</table>\n",
              "</div>\n",
              "    <div class=\"colab-df-buttons\">\n",
              "\n",
              "  <div class=\"colab-df-container\">\n",
              "    <button class=\"colab-df-convert\" onclick=\"convertToInteractive('df-9509de5c-f66b-46bc-a832-6b349d40680c')\"\n",
              "            title=\"Convert this dataframe to an interactive table.\"\n",
              "            style=\"display:none;\">\n",
              "\n",
              "  <svg xmlns=\"http://www.w3.org/2000/svg\" height=\"24px\" viewBox=\"0 -960 960 960\">\n",
              "    <path d=\"M120-120v-720h720v720H120Zm60-500h600v-160H180v160Zm220 220h160v-160H400v160Zm0 220h160v-160H400v160ZM180-400h160v-160H180v160Zm440 0h160v-160H620v160ZM180-180h160v-160H180v160Zm440 0h160v-160H620v160Z\"/>\n",
              "  </svg>\n",
              "    </button>\n",
              "\n",
              "  <style>\n",
              "    .colab-df-container {\n",
              "      display:flex;\n",
              "      gap: 12px;\n",
              "    }\n",
              "\n",
              "    .colab-df-convert {\n",
              "      background-color: #E8F0FE;\n",
              "      border: none;\n",
              "      border-radius: 50%;\n",
              "      cursor: pointer;\n",
              "      display: none;\n",
              "      fill: #1967D2;\n",
              "      height: 32px;\n",
              "      padding: 0 0 0 0;\n",
              "      width: 32px;\n",
              "    }\n",
              "\n",
              "    .colab-df-convert:hover {\n",
              "      background-color: #E2EBFA;\n",
              "      box-shadow: 0px 1px 2px rgba(60, 64, 67, 0.3), 0px 1px 3px 1px rgba(60, 64, 67, 0.15);\n",
              "      fill: #174EA6;\n",
              "    }\n",
              "\n",
              "    .colab-df-buttons div {\n",
              "      margin-bottom: 4px;\n",
              "    }\n",
              "\n",
              "    [theme=dark] .colab-df-convert {\n",
              "      background-color: #3B4455;\n",
              "      fill: #D2E3FC;\n",
              "    }\n",
              "\n",
              "    [theme=dark] .colab-df-convert:hover {\n",
              "      background-color: #434B5C;\n",
              "      box-shadow: 0px 1px 3px 1px rgba(0, 0, 0, 0.15);\n",
              "      filter: drop-shadow(0px 1px 2px rgba(0, 0, 0, 0.3));\n",
              "      fill: #FFFFFF;\n",
              "    }\n",
              "  </style>\n",
              "\n",
              "    <script>\n",
              "      const buttonEl =\n",
              "        document.querySelector('#df-9509de5c-f66b-46bc-a832-6b349d40680c button.colab-df-convert');\n",
              "      buttonEl.style.display =\n",
              "        google.colab.kernel.accessAllowed ? 'block' : 'none';\n",
              "\n",
              "      async function convertToInteractive(key) {\n",
              "        const element = document.querySelector('#df-9509de5c-f66b-46bc-a832-6b349d40680c');\n",
              "        const dataTable =\n",
              "          await google.colab.kernel.invokeFunction('convertToInteractive',\n",
              "                                                    [key], {});\n",
              "        if (!dataTable) return;\n",
              "\n",
              "        const docLinkHtml = 'Like what you see? Visit the ' +\n",
              "          '<a target=\"_blank\" href=https://colab.research.google.com/notebooks/data_table.ipynb>data table notebook</a>'\n",
              "          + ' to learn more about interactive tables.';\n",
              "        element.innerHTML = '';\n",
              "        dataTable['output_type'] = 'display_data';\n",
              "        await google.colab.output.renderOutput(dataTable, element);\n",
              "        const docLink = document.createElement('div');\n",
              "        docLink.innerHTML = docLinkHtml;\n",
              "        element.appendChild(docLink);\n",
              "      }\n",
              "    </script>\n",
              "  </div>\n",
              "\n",
              "\n",
              "    </div>\n",
              "  </div>\n"
            ],
            "application/vnd.google.colaboratory.intrinsic+json": {
              "type": "dataframe",
              "variable_name": "cp",
              "repr_error": "Out of range float values are not JSON compliant: nan"
            }
          },
          "metadata": {},
          "execution_count": 57
        }
      ],
      "source": [
        "cp = pd.DataFrame({'Day_of_week' : dow, 'Count' : cnt})\n",
        "cp.head()"
      ]
    },
    {
      "cell_type": "code",
      "execution_count": 58,
      "metadata": {
        "id": "_CHPQGH5pnHW",
        "colab": {
          "base_uri": "https://localhost:8080/",
          "height": 545
        },
        "outputId": "1943768a-dc80-49b5-cb1e-f70774dba411"
      },
      "outputs": [
        {
          "output_type": "execute_result",
          "data": {
            "text/plain": [
              "Text(0.5, 1.0, 'No. of reported crimes per day of the week from 2001 to present')"
            ]
          },
          "metadata": {},
          "execution_count": 58
        },
        {
          "output_type": "display_data",
          "data": {
            "text/plain": [
              "<Figure size 640x480 with 1 Axes>"
            ],
            "image/png": "[encoded data removed]"
          },
          "metadata": {}
        }
      ],
      "source": [
        "cp.sort_values('Count',ascending=False).plot(kind='bar',color='olive',x='Day_of_week',y='Count')\n",
        "plt.xlabel('Day of the week')\n",
        "plt.ylabel('No. of reported crimes')\n",
        "plt.title('No. of reported crimes per day of the week from 2001 to present')"
      ]
    },
    {
      "cell_type": "markdown",
      "metadata": {
        "id": "oSOpIOhJ4etN"
      },
      "source": [
        "## (05-01) RDDs setup"
      ]
    },
    {
      "cell_type": "code",
      "execution_count": 63,
      "metadata": {
        "colab": {
          "base_uri": "https://localhost:8080/",
          "height": 109
        },
        "id": "xcOe8kAS4etN",
        "outputId": "1277dfe2-c9e7-4ed1-a16f-ecb9db72df1b"
      },
      "outputs": [
        {
          "output_type": "stream",
          "name": "stdout",
          "text": [
            "Requirement already satisfied: pyspark in /usr/local/lib/python3.11/dist-packages (3.4.0)\n",
            "Requirement already satisfied: py4j==0.10.9.7 in /usr/local/lib/python3.11/dist-packages (from pyspark) (0.10.9.7)\n"
          ]
        },
        {
          "output_type": "execute_result",
          "data": {
            "text/plain": [
              "'DISTRICT,DISTRICT NAME,ADDRESS,CITY,STATE,ZIP,WEBSITE,PHONE,FAX,TTY,X COORDINATE,Y COORDINATE,LATITUDE,LONGITUDE,LOCATION'"
            ],
            "application/vnd.google.colaboratory.intrinsic+json": {
              "type": "string"
            }
          },
          "metadata": {},
          "execution_count": 63
        }
      ],
      "source": [
        "!pip install pyspark\n",
        "# Import the necessary modules from PySpark\n",
        "from pyspark.sql import SparkSession\n",
        "from pyspark import SparkContext\n",
        "\n",
        "# Create a SparkSession and SparkContext\n",
        "spark = SparkSession.builder.getOrCreate()\n",
        "sc = spark.sparkContext\n",
        "\n",
        "psrdd = sc.textFile('police-station.csv')\n",
        "psrdd.first()"
      ]
    },
    {
      "cell_type": "code",
      "execution_count": 64,
      "metadata": {
        "id": "uxMRo2C14etN"
      },
      "outputs": [],
      "source": [
        "ps_header = psrdd.first()"
      ]
    },
    {
      "cell_type": "code",
      "execution_count": 65,
      "metadata": {
        "colab": {
          "base_uri": "https://localhost:8080/",
          "height": 71
        },
        "id": "eYDxom404etN",
        "outputId": "6123e84b-bb16-426c-eb3a-f67ca6dfa262"
      },
      "outputs": [
        {
          "output_type": "execute_result",
          "data": {
            "text/plain": [
              "'Headquarters,Headquarters,3510 S Michigan Ave,Chicago,IL,60653,http://home.chicagopolice.org,,,,1177731.401,1881697.404,41.83070169,-87.62339535,\"(41.8307016873, -87.6233953459)\"'"
            ],
            "application/vnd.google.colaboratory.intrinsic+json": {
              "type": "string"
            }
          },
          "metadata": {},
          "execution_count": 65
        }
      ],
      "source": [
        "ps_rest = psrdd.filter(lambda line: line != ps_header)\n",
        "ps_rest.first()"
      ]
    },
    {
      "cell_type": "markdown",
      "metadata": {
        "id": "ShYgMK6jPsSt"
      },
      "source": [
        "**How many police stations are there?**"
      ]
    },
    {
      "cell_type": "code",
      "execution_count": 66,
      "metadata": {
        "colab": {
          "base_uri": "https://localhost:8080/"
        },
        "id": "2FbZPk84Pwxc",
        "outputId": "d945df1a-6ae4-4985-be1f-c9f7a1e04931"
      },
      "outputs": [
        {
          "output_type": "execute_result",
          "data": {
            "text/plain": [
              "[['Headquarters',\n",
              "  'Headquarters',\n",
              "  '3510 S Michigan Ave',\n",
              "  'Chicago',\n",
              "  'IL',\n",
              "  '60653',\n",
              "  'http://home.chicagopolice.org',\n",
              "  '',\n",
              "  '',\n",
              "  '',\n",
              "  '1177731.401',\n",
              "  '1881697.404',\n",
              "  '41.83070169',\n",
              "  '-87.62339535',\n",
              "  '\"(41.8307016873',\n",
              "  ' -87.6233953459)\"'],\n",
              " ['18',\n",
              "  'Near North',\n",
              "  '1160 N Larrabee St',\n",
              "  'Chicago',\n",
              "  'IL',\n",
              "  '60610',\n",
              "  'http://home.chicagopolice.org/community/districts/18th-district-near-north/',\n",
              "  '312-742-5870',\n",
              "  '312-742-5771',\n",
              "  '312-742-5773',\n",
              "  '1172080.029',\n",
              "  '1908086.527',\n",
              "  '41.90324165',\n",
              "  '-87.64335214',\n",
              "  '\"(41.9032416531',\n",
              "  ' -87.6433521393)\"'],\n",
              " ['19',\n",
              "  'Town Hall',\n",
              "  '850 W Addison St',\n",
              "  'Chicago',\n",
              "  'IL',\n",
              "  '60613',\n",
              "  'http://home.chicagopolice.org/community/districts/19th-district-town-hall/',\n",
              "  '312-744-8320',\n",
              "  '312-744-4481',\n",
              "  '312-744-8011',\n",
              "  '1169730.744',\n",
              "  '1924160.317',\n",
              "  '41.94740046',\n",
              "  '-87.65151202',\n",
              "  '\"(41.9474004564',\n",
              "  ' -87.651512018)\"'],\n",
              " ['20',\n",
              "  'Lincoln',\n",
              "  '5400 N Lincoln Ave',\n",
              "  'Chicago',\n",
              "  'IL',\n",
              "  '60625',\n",
              "  'http://home.chicagopolice.org/community/districts/20th-district-lincoln/',\n",
              "  '312-742-8714',\n",
              "  '312-742-8803',\n",
              "  '312-742-8841',\n",
              "  '1158399.146',\n",
              "  '1935788.826',\n",
              "  '41.97954951',\n",
              "  '-87.69284451',\n",
              "  '\"(41.9795495131',\n",
              "  ' -87.6928445094)\"'],\n",
              " ['22',\n",
              "  'Morgan Park',\n",
              "  '1900 W Monterey Ave',\n",
              "  'Chicago',\n",
              "  'IL',\n",
              "  '60643',\n",
              "  'http://home.chicagopolice.org/community/districts/22nd-district-morgan-park/',\n",
              "  '312-745-0710',\n",
              "  '312-745-0814',\n",
              "  '312-745-0569',\n",
              "  '1165825.476',\n",
              "  '1830851.333',\n",
              "  '41.69143478',\n",
              "  '-87.66852039',\n",
              "  '\"(41.6914347795',\n",
              "  ' -87.6685203937)\"'],\n",
              " ['24',\n",
              "  'Rogers Park',\n",
              "  '6464 N Clark St',\n",
              "  'Chicago',\n",
              "  'IL',\n",
              "  '60626',\n",
              "  'http://home.chicagopolice.org/community/districts/24th-district-rogers-park/',\n",
              "  '312-744-5907',\n",
              "  '312-744-6928',\n",
              "  '312-744-7603',\n",
              "  '1164193.588',\n",
              "  '1943199.401',\n",
              "  '41.99976348',\n",
              "  '-87.67132429',\n",
              "  '\"(41.9997634842',\n",
              "  ' -87.6713242922)\"'],\n",
              " ['25',\n",
              "  'Grand Central',\n",
              "  '5555 W Grand Ave',\n",
              "  'Chicago',\n",
              "  'IL',\n",
              "  '60639',\n",
              "  'http://home.chicagopolice.org/community/districts/25th-district-grand-central/',\n",
              "  '312-746-8605',\n",
              "  '312-746-4353',\n",
              "  '312-746-8383',\n",
              "  '1138770.871',\n",
              "  '1913442.439',\n",
              "  '41.91860889',\n",
              "  '-87.76557448',\n",
              "  '\"(41.9186088912',\n",
              "  ' -87.765574479)\"'],\n",
              " ['1',\n",
              "  'Central',\n",
              "  '1718 S State St',\n",
              "  'Chicago',\n",
              "  'IL',\n",
              "  '60616',\n",
              "  'http://home.chicagopolice.org/community/districts/1st-district-central/',\n",
              "  '312-745-4290',\n",
              "  '312-745-3694',\n",
              "  '312-745-3693',\n",
              "  '1176569.052',\n",
              "  '1891771.704',\n",
              "  '41.85837259',\n",
              "  '-87.62735617',\n",
              "  '\"(41.8583725929',\n",
              "  ' -87.627356171)\"'],\n",
              " ['2',\n",
              "  'Wentworth',\n",
              "  '5101 S Wentworth Ave',\n",
              "  'Chicago',\n",
              "  'IL',\n",
              "  '60609',\n",
              "  'http://home.chicagopolice.org/community/districts/2nd-district-wentworth/',\n",
              "  '312-747-8366',\n",
              "  '312-747-5396',\n",
              "  '312-747-6656',\n",
              "  '1175864.837',\n",
              "  '1871153.753',\n",
              "  '41.80181109',\n",
              "  '-87.63056018',\n",
              "  '\"(41.8018110912',\n",
              "  ' -87.6305601801)\"'],\n",
              " ['3',\n",
              "  'Grand Crossing',\n",
              "  '7040 S Cottage Grove Ave',\n",
              "  'Chicago',\n",
              "  'IL',\n",
              "  '60637',\n",
              "  'http://home.chicagopolice.org/community/districts/3rd-district-grand-crossing/',\n",
              "  '312-747-8201',\n",
              "  '312-747-5479',\n",
              "  '312-747-9168',\n",
              "  '1182739.183',\n",
              "  '1858317.732',\n",
              "  '41.76643089',\n",
              "  '-87.60574786',\n",
              "  '\"(41.7664308925',\n",
              "  ' -87.6057478606)\"'],\n",
              " ['4',\n",
              "  'South Chicago',\n",
              "  '2255 E 103rd St',\n",
              "  'Chicago',\n",
              "  'IL',\n",
              "  '60617',\n",
              "  'http://home.chicagopolice.org/community/districts/4th-district-south-chicago/',\n",
              "  '312-747-7581',\n",
              "  '312-747-5276',\n",
              "  '312-747-9169',\n",
              "  '1193131.299',\n",
              "  '1837090.265',\n",
              "  '41.70793329',\n",
              "  '-87.56834912',\n",
              "  '\"(41.7079332906',\n",
              "  ' -87.5683491228)\"'],\n",
              " ['5',\n",
              "  'Calumet',\n",
              "  '727 E 111th St',\n",
              "  'Chicago',\n",
              "  'IL',\n",
              "  '60628',\n",
              "  'http://home.chicagopolice.org/community/districts/5th-district-calumet/',\n",
              "  '312-747-8210',\n",
              "  '312-747-5935',\n",
              "  '312-747-9170',\n",
              "  '1183305.427',\n",
              "  '1831462.313',\n",
              "  '41.69272336',\n",
              "  '-87.60450587',\n",
              "  '\"(41.6927233639',\n",
              "  ' -87.6045058667)\"'],\n",
              " ['6',\n",
              "  'Gresham',\n",
              "  '7808 S Halsted St',\n",
              "  'Chicago',\n",
              "  'IL',\n",
              "  '60620',\n",
              "  'http://home.chicagopolice.org/community/districts/6th-district-gresham/',\n",
              "  '312-745-3617',\n",
              "  '312-745-3649',\n",
              "  '312-745-3639',\n",
              "  '1172283.013',\n",
              "  '1853022.646',\n",
              "  '41.75213684',\n",
              "  '-87.64422891',\n",
              "  '\"(41.7521368378',\n",
              "  ' -87.6442289066)\"'],\n",
              " ['7',\n",
              "  'Englewood',\n",
              "  '1438 W 63rd St',\n",
              "  'Chicago',\n",
              "  'IL',\n",
              "  '60636',\n",
              "  'http://home.chicagopolice.org/community/districts/7th-district-englewood/',\n",
              "  '312-747-8223',\n",
              "  '312-747-6558',\n",
              "  '312-747-6652',\n",
              "  '1167659.235',\n",
              "  '1863005.522',\n",
              "  '41.77963154',\n",
              "  '-87.66088702',\n",
              "  '\"(41.7796315359',\n",
              "  ' -87.6608870173)\"'],\n",
              " ['8',\n",
              "  'Chicago Lawn',\n",
              "  '3420 W 63rd St',\n",
              "  'Chicago',\n",
              "  'IL',\n",
              "  '60629',\n",
              "  'http://home.chicagopolice.org/community/districts/8th-district-chicago-lawn/',\n",
              "  '312-747-8730',\n",
              "  '312-747-8545',\n",
              "  '312-747-8116',\n",
              "  '1154575.242',\n",
              "  '1862672.049',\n",
              "  '41.77898719',\n",
              "  '-87.70886382',\n",
              "  '\"(41.778987189',\n",
              "  ' -87.7088638153)\"'],\n",
              " ['9',\n",
              "  'Deering',\n",
              "  '3120 S Halsted St',\n",
              "  'Chicago',\n",
              "  'IL',\n",
              "  '60608',\n",
              "  'http://home.chicagopolice.org/community/districts/9th-district-deering/',\n",
              "  '312-747-8227',\n",
              "  '312-747-5329',\n",
              "  '312-747-9172',\n",
              "  '1171440.24',\n",
              "  '1884085.224',\n",
              "  '41.83739443',\n",
              "  '-87.64640771',\n",
              "  '\"(41.8373944311',\n",
              "  ' -87.6464077068)\"'],\n",
              " ['10',\n",
              "  'Ogden',\n",
              "  '3315 W Ogden Ave',\n",
              "  'Chicago',\n",
              "  'IL',\n",
              "  '60623',\n",
              "  'http://home.chicagopolice.org/community/districts/10th-district-ogden/',\n",
              "  '312-747-7511',\n",
              "  '312-747-7429',\n",
              "  '312-747-7471',\n",
              "  '1154500.753',\n",
              "  '1890985.501',\n",
              "  '41.85668453',\n",
              "  '-87.70838196',\n",
              "  '\"(41.8566845327',\n",
              "  ' -87.708381958)\"'],\n",
              " ['11',\n",
              "  'Harrison',\n",
              "  '3151 W Harrison St',\n",
              "  'Chicago',\n",
              "  'IL',\n",
              "  '60612',\n",
              "  'http://home.chicagopolice.org/community/districts/11th-district-harrison/',\n",
              "  '312-746-8386',\n",
              "  '312-746-4281',\n",
              "  '312-746-5151',\n",
              "  '1155244.069',\n",
              "  '1897148.755',\n",
              "  '41.87358229',\n",
              "  '-87.70548813',\n",
              "  '\"(41.8735822883',\n",
              "  ' -87.705488126)\"'],\n",
              " ['12', 'Near West', '\"1412 S Blue Island Ave'],\n",
              " ['\"',\n",
              "  'Chicago',\n",
              "  'IL',\n",
              "  '60608',\n",
              "  'http://home.chicagopolice.org/community/districts/12th-district-near-west/',\n",
              "  '312-746-8396',\n",
              "  '312-746-4248',\n",
              "  '312-746-9868',\n",
              "  '1168487.845',\n",
              "  '1893384.455',\n",
              "  '41.86297662',\n",
              "  '-87.65697251',\n",
              "  '\"(41.8629766244',\n",
              "  ' -87.6569725149)\"'],\n",
              " ['14',\n",
              "  'Shakespeare',\n",
              "  '2150 N California Ave',\n",
              "  'Chicago',\n",
              "  'IL',\n",
              "  '60647',\n",
              "  'http://home.chicagopolice.org/community/districts/14th-district-shakespeare/',\n",
              "  '312-744-8250',\n",
              "  '312-744-2422',\n",
              "  '312-744-8260',\n",
              "  '1157304.426',\n",
              "  '1914481.521',\n",
              "  '41.92110332',\n",
              "  '-87.69745182',\n",
              "  '\"(41.9211033246',\n",
              "  ' -87.6974518223)\"'],\n",
              " ['15',\n",
              "  'Austin',\n",
              "  '5701 W Madison St',\n",
              "  'Chicago',\n",
              "  'IL',\n",
              "  '60644',\n",
              "  'http://home.chicagopolice.org/community/districts/15th-district-austin/',\n",
              "  '312-743-1440',\n",
              "  '312-743-1366',\n",
              "  '312-743-1485',\n",
              "  '1138148.815',\n",
              "  '1899399.078',\n",
              "  '41.88008346',\n",
              "  '-87.76819989',\n",
              "  '\"(41.8800834614',\n",
              "  ' -87.768199889)\"'],\n",
              " ['16',\n",
              "  'Jefferson Park',\n",
              "  '5151 N Milwaukee Ave',\n",
              "  'Chicago',\n",
              "  'IL',\n",
              "  '60630',\n",
              "  'http://home.chicagopolice.org/community/districts/16th-district-jefferson-park/',\n",
              "  '312-742-4480',\n",
              "  '312-742-4421',\n",
              "  '312-742-4423',\n",
              "  '1138480.758',\n",
              "  '1933660.473',\n",
              "  '41.97409445',\n",
              "  '-87.76614884',\n",
              "  '\"(41.9740944511',\n",
              "  ' -87.7661488432)\"'],\n",
              " ['17',\n",
              "  'Albany Park',\n",
              "  '4650 N Pulaski Rd',\n",
              "  'Chicago',\n",
              "  'IL',\n",
              "  '60630',\n",
              "  'http://home.chicagopolice.org/community/districts/17th-district-albany-park/',\n",
              "  '312-742-4410',\n",
              "  '312-742-5411',\n",
              "  '312-742-5451',\n",
              "  '1148843.91',\n",
              "  '1930801.058',\n",
              "  '41.96605342',\n",
              "  '-87.72811456',\n",
              "  '\"(41.9660534171',\n",
              "  ' -87.728114561)\"']]"
            ]
          },
          "metadata": {},
          "execution_count": 66
        }
      ],
      "source": [
        "ps_rest.map(lambda line: line.split(',')).collect()"
      ]
    },
    {
      "cell_type": "code",
      "execution_count": 67,
      "metadata": {
        "colab": {
          "base_uri": "https://localhost:8080/"
        },
        "id": "Iv-dVhhhPwrO",
        "outputId": "48c5063c-9640-4ec5-9017-9804407b1c47"
      },
      "outputs": [
        {
          "output_type": "execute_result",
          "data": {
            "text/plain": [
              "24"
            ]
          },
          "metadata": {},
          "execution_count": 67
        }
      ],
      "source": [
        "ps_rest.map(lambda line: line.split(',')).count()"
      ]
    },
    {
      "cell_type": "markdown",
      "metadata": {
        "id": "WKYiypY0MbJ1"
      },
      "source": [
        "**Display the District ID, District name, Address and Zip for the police station with District ID 7**\n",
        "\n"
      ]
    },
    {
      "cell_type": "code",
      "execution_count": 68,
      "metadata": {
        "colab": {
          "base_uri": "https://localhost:8080/"
        },
        "id": "iHxLAHHq4etO",
        "outputId": "2ec44c1b-39d9-462a-dcc9-052e650fd1e7"
      },
      "outputs": [
        {
          "output_type": "execute_result",
          "data": {
            "text/plain": [
              "[('7', 'Englewood', '1438 W 63rd St', '60636')]"
            ]
          },
          "metadata": {},
          "execution_count": 68
        }
      ],
      "source": [
        "ps_rest.filter(lambda line: line.split(',')[0] == '7').map(lambda line: (line.split(',')[0],line.split(',')[1],line.split(',')[2],line.split(',')[5])).collect()"
      ]
    },
    {
      "cell_type": "markdown",
      "metadata": {
        "id": "1mWxQg2mN4W7"
      },
      "source": [
        "**Police stations 10 and 11 are geographically close to each other. Display the District ID, District name, address and zip code**"
      ]
    },
    {
      "cell_type": "code",
      "execution_count": 69,
      "metadata": {
        "colab": {
          "base_uri": "https://localhost:8080/"
        },
        "id": "9DiIzEr-Gadn",
        "outputId": "ec3d929e-90df-43fb-af35-713a46fff577"
      },
      "outputs": [
        {
          "output_type": "execute_result",
          "data": {
            "text/plain": [
              "[('10', 'Ogden', '3315 W Ogden Ave', '60623'),\n",
              " ('11', 'Harrison', '3151 W Harrison St', '60612')]"
            ]
          },
          "metadata": {},
          "execution_count": 69
        }
      ],
      "source": [
        "ps_rest.filter(lambda line: line.split(',')[0] in ['10','11']).map(lambda line: (line.split(',')[0],line.split(',')[1],line.split(',')[2],line.split(',')[5])).collect()"
      ]
    }
  ],
  "metadata": {
    "colab": {
      "collapsed_sections": [
        "8qf-TmnsBgXd",
        "3UJoYm5zwOWp",
        "mI_zYOVpf2yK",
        "NiU1nhA3y0j4",
        "9sDnyyzozVxA",
        "D7Dw2UpQ08-9",
        "hiKFyArf14B0",
        "9lAyzg282V_4"
      ],
      "provenance": [],
      "toc_visible": true,
      "include_colab_link": true
    },
    "kernelspec": {
      "display_name": "Python 3",
      "name": "python3"
    },
    "language_info": {
      "name": "python"
    }
  },
  "nbformat": 4,
  "nbformat_minor": 0
}